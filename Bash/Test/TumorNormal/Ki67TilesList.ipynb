{
 "cells": [
  {
   "cell_type": "code",
   "execution_count": 1,
   "id": "65bd498e",
   "metadata": {},
   "outputs": [],
   "source": [
    "import os \n",
    "from glob import glob"
   ]
  },
  {
   "cell_type": "code",
   "execution_count": 2,
   "id": "b7963033",
   "metadata": {},
   "outputs": [],
   "source": [
    "main_dir = '/gpfsscratch/rech/ohv/ueu39kt/KI67_Tiling_256_256_40x'"
   ]
  },
  {
   "cell_type": "code",
   "execution_count": 3,
   "id": "3dbfa3a7",
   "metadata": {},
   "outputs": [],
   "source": [
    "def tiles_list(regex,filename):\n",
    "    Tiles_list = []\n",
    "    for folder in glob(os.path.join(main_dir, regex)):\n",
    "        for files in os.listdir(os.path.join(main_dir, folder, 'accept')):\n",
    "            Tiles_list.append(os.path.join(main_dir, folder, 'accept', files))\n",
    "    with open(os.path.join(main_dir, filename), 'w') as f:\n",
    "        for ele in Tiles_list:\n",
    "            f.write(ele+'\\n')"
   ]
  },
  {
   "cell_type": "code",
   "execution_count": 11,
   "id": "8ea601c8",
   "metadata": {},
   "outputs": [],
   "source": [
    "tiles_list('TNE14[3-6]*','Tiles_TNE143-6.txt')"
   ]
  },
  {
   "cell_type": "code",
   "execution_count": 12,
   "id": "f9658e6b",
   "metadata": {},
   "outputs": [],
   "source": [
    "tiles_list('TNE14[7-9]*','Tiles_TNE147-9.txt')\n",
    "tiles_list('TNE15[0-4]*','Tiles_TNE150-4.txt')\n",
    "tiles_list('TNE15[5-7]*','Tiles_TNE155-7.txt')\n",
    "tiles_list('TNE15[8-9]*','Tiles_TNE158-9.txt')\n",
    "tiles_list('TNE16*','Tiles_TNE16.txt')\n",
    "tiles_list('TNE17[0-2]*','Tiles_TNE170-2.txt')\n",
    "tiles_list('TNE17[3-5]*','Tiles_TNE173-5.txt')\n",
    "tiles_list('TNE17[6-9]*','Tiles_TNE176-9.txt')\n",
    "tiles_list('TNE18[0-2]*','Tiles_TNE180-2.txt')\n",
    "tiles_list('TNE18[3-5]*','Tiles_TNE183-5.txt')\n",
    "tiles_list('TNE18[6-9]*','Tiles_TNE186-9.txt')\n",
    "tiles_list('TNE19[0-4]*','Tiles_TNE190-4.txt')\n",
    "tiles_list('TNE19[5-7]*','Tiles_TNE195-7.txt')\n",
    "tiles_list('TNE19[8-9]*','Tiles_TNE198-9.txt')\n",
    "tiles_list('TNE20[0-2]*','Tiles_TNE200-2.txt')\n",
    "tiles_list('TNE20[3-5]*','Tiles_TNE203-5.txt')\n",
    "tiles_list('TNE20[4-9]*','Tiles_TNE204-9.txt')\n",
    "tiles_list('TNE21[0-2]*','Tiles_TNE210-2.txt')\n",
    "tiles_list('TNE21[3-9]*','Tiles_TNE213-9.txt')"
   ]
  },
  {
   "cell_type": "code",
   "execution_count": 4,
   "id": "38fbbcc9",
   "metadata": {},
   "outputs": [],
   "source": [
    "tiles_list('TNE147*','Tiles_TNE147.txt')"
   ]
  },
  {
   "cell_type": "code",
   "execution_count": 5,
   "id": "2c57330d",
   "metadata": {},
   "outputs": [],
   "source": [
    "tiles_list('TNE148*','Tiles_TNE148.txt')"
   ]
  },
  {
   "cell_type": "code",
   "execution_count": 6,
   "id": "e0416be6",
   "metadata": {},
   "outputs": [],
   "source": [
    "tiles_list('TNE149*','Tiles_TNE149.txt')"
   ]
  },
  {
   "cell_type": "code",
   "execution_count": null,
   "id": "01d105b0",
   "metadata": {},
   "outputs": [],
   "source": []
  }
 ],
 "metadata": {
  "kernelspec": {
   "display_name": "Python 3 (ipykernel)",
   "language": "python",
   "name": "python3"
  },
  "language_info": {
   "codemirror_mode": {
    "name": "ipython",
    "version": 3
   },
   "file_extension": ".py",
   "mimetype": "text/x-python",
   "name": "python",
   "nbconvert_exporter": "python",
   "pygments_lexer": "ipython3",
   "version": "3.9.6"
  }
 },
 "nbformat": 4,
 "nbformat_minor": 5
}
