{
 "cells": [
  {
   "cell_type": "code",
   "execution_count": 5,
   "id": "65bd498e",
   "metadata": {},
   "outputs": [],
   "source": [
    "import os \n",
    "from glob import glob"
   ]
  },
  {
   "cell_type": "code",
   "execution_count": 9,
   "id": "b7963033",
   "metadata": {},
   "outputs": [],
   "source": [
    "main_dir = '/gpfsscratch/rech/uli/ueu39kt/KI67_Tiling_256_256_40x'"
   ]
  },
  {
   "cell_type": "code",
   "execution_count": 10,
   "id": "3dbfa3a7",
   "metadata": {},
   "outputs": [],
   "source": [
    "def tiles_list(regex,filename):\n",
    "    Tiles_list = []\n",
    "    for folder in glob(os.path.join(main_dir, regex)):\n",
    "        for files in os.listdir(os.path.join(main_dir, folder, 'accept')):\n",
    "            Tiles_list.append(os.path.join(main_dir, folder, 'accept', files))\n",
    "    with open(os.path.join(main_dir, filename), 'w') as f:\n",
    "        for ele in Tiles_list:\n",
    "            f.write(ele+'\\n')"
   ]
  },
  {
   "cell_type": "code",
   "execution_count": 11,
   "id": "8ea601c8",
   "metadata": {},
   "outputs": [],
   "source": [
    "tiles_list('TNE1825*','Tiles_TNE1825.txt')"
   ]
  },
  {
   "cell_type": "code",
   "execution_count": 12,
   "id": "f9658e6b",
   "metadata": {},
   "outputs": [],
   "source": [
    "tiles_list('TNE14[7-9]*','Tiles_TNE147-9.txt')\n",
    "tiles_list('TNE15[0-4]*','Tiles_TNE150-4.txt')\n",
    "tiles_list('TNE15[5-7]*','Tiles_TNE155-7.txt')\n",
    "tiles_list('TNE15[8-9]*','Tiles_TNE158-9.txt')\n",
    "tiles_list('TNE16*','Tiles_TNE16.txt')\n",
    "tiles_list('TNE17[0-2]*','Tiles_TNE170-2.txt')\n",
    "tiles_list('TNE17[3-5]*','Tiles_TNE173-5.txt')\n",
    "tiles_list('TNE17[6-9]*','Tiles_TNE176-9.txt')\n",
    "tiles_list('TNE18[0-2]*','Tiles_TNE180-2.txt')\n",
    "tiles_list('TNE18[3-5]*','Tiles_TNE183-5.txt')\n",
    "tiles_list('TNE18[6-9]*','Tiles_TNE186-9.txt')\n",
    "tiles_list('TNE19[0-4]*','Tiles_TNE190-4.txt')\n",
    "tiles_list('TNE19[5-7]*','Tiles_TNE195-7.txt')\n",
    "tiles_list('TNE19[8-9]*','Tiles_TNE198-9.txt')\n",
    "tiles_list('TNE20[0-2]*','Tiles_TNE200-2.txt')\n",
    "tiles_list('TNE20[3-5]*','Tiles_TNE203-5.txt')\n",
    "tiles_list('TNE20[4-9]*','Tiles_TNE204-9.txt')\n",
    "tiles_list('TNE21[0-2]*','Tiles_TNE210-2.txt')\n",
    "tiles_list('TNE21[3-9]*','Tiles_TNE213-9.txt')"
   ]
  },
  {
   "cell_type": "code",
   "execution_count": 4,
   "id": "38fbbcc9",
   "metadata": {},
   "outputs": [],
   "source": [
    "tiles_list('TNE147*','Tiles_TNE147.txt')"
   ]
  },
  {
   "cell_type": "code",
   "execution_count": 5,
   "id": "2c57330d",
   "metadata": {},
   "outputs": [],
   "source": [
    "tiles_list('TNE148*','Tiles_TNE148.txt')"
   ]
  },
  {
   "cell_type": "code",
   "execution_count": 6,
   "id": "e0416be6",
   "metadata": {},
   "outputs": [],
   "source": [
    "tiles_list('TNE149*','Tiles_TNE149.txt')"
   ]
  },
  {
   "cell_type": "markdown",
   "id": "c9b793fb",
   "metadata": {},
   "source": [
    "## Tiles list sup for inference"
   ]
  },
  {
   "cell_type": "code",
   "execution_count": 7,
   "id": "4d3ec592",
   "metadata": {},
   "outputs": [],
   "source": [
    "main_dir = '/gpfsscratch/rech/ohv/ueu39kt/KI67_Tiling_256_256_40x'"
   ]
  },
  {
   "cell_type": "code",
   "execution_count": 18,
   "id": "abbe4da7",
   "metadata": {},
   "outputs": [],
   "source": [
    "TNESelected = ['TNE1770', 'TNE2015']"
   ]
  },
  {
   "cell_type": "code",
   "execution_count": 19,
   "id": "b46fe054",
   "metadata": {},
   "outputs": [
    {
     "name": "stdout",
     "output_type": "stream",
     "text": [
      "TNE2015 5016\n",
      "TNE1770 14518\n"
     ]
    }
   ],
   "source": [
    "infer_tiles_list = []\n",
    "for folder in os.listdir(main_dir):\n",
    "    folder_tneid = folder[:7]\n",
    "    if folder_tneid in TNESelected:\n",
    "        print( folder_tneid,\n",
    "              len(os.listdir(os.path.join(main_dir, folder, 'accept'))))\n",
    "        for ele in os.listdir(os.path.join(main_dir, folder, 'accept')):\n",
    "            infer_tiles_list.append(os.path.join(main_dir, folder, 'accept', ele))"
   ]
  },
  {
   "cell_type": "code",
   "execution_count": 20,
   "id": "0311307f",
   "metadata": {},
   "outputs": [
    {
     "data": {
      "text/plain": [
       "['/gpfsscratch/rech/ohv/ueu39kt/KI67_Tiling_256_256_40x/TNE2015.svs/accept/TNE2015.svs_75777_47105.jpg',\n",
       " '/gpfsscratch/rech/ohv/ueu39kt/KI67_Tiling_256_256_40x/TNE2015.svs/accept/TNE2015.svs_61953_19969.jpg',\n",
       " '/gpfsscratch/rech/ohv/ueu39kt/KI67_Tiling_256_256_40x/TNE2015.svs/accept/TNE2015.svs_84481_45057.jpg']"
      ]
     },
     "execution_count": 20,
     "metadata": {},
     "output_type": "execute_result"
    }
   ],
   "source": [
    "infer_tiles_list[:3]"
   ]
  },
  {
   "cell_type": "code",
   "execution_count": 21,
   "id": "943b69b8",
   "metadata": {},
   "outputs": [
    {
     "data": {
      "text/plain": [
       "19534"
      ]
     },
     "execution_count": 21,
     "metadata": {},
     "output_type": "execute_result"
    }
   ],
   "source": [
    "len(infer_tiles_list)"
   ]
  },
  {
   "cell_type": "code",
   "execution_count": 22,
   "id": "ddd72968",
   "metadata": {},
   "outputs": [
    {
     "data": {
      "text/plain": [
       "57875"
      ]
     },
     "execution_count": 22,
     "metadata": {},
     "output_type": "execute_result"
    }
   ],
   "source": [
    "1532+904+14117+21743+14518+5061"
   ]
  },
  {
   "cell_type": "code",
   "execution_count": 23,
   "id": "215b1147",
   "metadata": {},
   "outputs": [],
   "source": [
    "with open(os.path.join(main_dir, 'infer_tne1770_1ne2015.txt'), 'w') as f:\n",
    "        for ele in infer_tiles_list:\n",
    "            f.write(ele+'\\n')"
   ]
  },
  {
   "cell_type": "code",
   "execution_count": null,
   "id": "4b2145a6",
   "metadata": {},
   "outputs": [],
   "source": [
    ", 'TNE1770', 'TNE2015'"
   ]
  }
 ],
 "metadata": {
  "kernelspec": {
   "display_name": "Python 3 (ipykernel)",
   "language": "python",
   "name": "python3"
  },
  "language_info": {
   "codemirror_mode": {
    "name": "ipython",
    "version": 3
   },
   "file_extension": ".py",
   "mimetype": "text/x-python",
   "name": "python",
   "nbconvert_exporter": "python",
   "pygments_lexer": "ipython3",
   "version": "3.9.6"
  }
 },
 "nbformat": 4,
 "nbformat_minor": 5
}
