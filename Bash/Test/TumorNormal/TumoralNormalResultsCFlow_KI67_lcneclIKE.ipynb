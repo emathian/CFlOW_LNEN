{
 "cells": [
  {
   "cell_type": "code",
   "execution_count": 1,
   "id": "3ad31a63",
   "metadata": {},
   "outputs": [],
   "source": [
    "import matplotlib.pyplot as plt\n",
    "import numpy as np\n",
    "import os\n",
    "import cv2\n",
    "import pandas as pd\n",
    "import argparse\n",
    "from sklearn.metrics import roc_auc_score, average_precision_score, roc_curve\n",
    "from sklearn.metrics import precision_recall_curve\n",
    "import seaborn as sns\n",
    "import warnings\n",
    "warnings.filterwarnings('ignore')"
   ]
  },
  {
   "cell_type": "code",
   "execution_count": 2,
   "id": "e1a8f7b2",
   "metadata": {},
   "outputs": [],
   "source": [
    "# tets\n",
    "rootdir  = '/gpfsscratch/rech/ohv/ueu39kt/CFLOW/viz'\n",
    "dir_exp = 'TumorNormal_indivuidual_model_TNE0008'\n",
    "outfilename = 'TumorNormal_HES_individuals_models_modelTNE0008_Results.txt'"
   ]
  },
  {
   "cell_type": "code",
   "execution_count": 3,
   "id": "25cfd9b8",
   "metadata": {},
   "outputs": [],
   "source": [
    "def get_df(rootdir, dir_exp):\n",
    "    path_ = f'{rootdir}/{dir_exp}/Tumor/results_table.csv'\n",
    "    df_ = pd.read_csv(path_)\n",
    "    return df_"
   ]
  },
  {
   "cell_type": "code",
   "execution_count": 4,
   "id": "99e59a0a",
   "metadata": {},
   "outputs": [],
   "source": [
    "def get_train_df(rootdir, dir_exp):\n",
    "    path_ = f'{rootdir}/{dir_exp}/Tumor/results_table_train.csv'\n",
    "    df_ = pd.read_csv(path_)\n",
    "    return df_"
   ]
  },
  {
   "cell_type": "code",
   "execution_count": 5,
   "id": "8abe5f0e",
   "metadata": {},
   "outputs": [
    {
     "ename": "FileNotFoundError",
     "evalue": "[Errno 2] No such file or directory: '/gpfsscratch/rech/ohv/ueu39kt/CFLOW/viz/TumorNormal_indivuidual_model_TNE0008/Tumor/results_table.csv'",
     "output_type": "error",
     "traceback": [
      "\u001b[0;31m---------------------------------------------------------------------------\u001b[0m",
      "\u001b[0;31mFileNotFoundError\u001b[0m                         Traceback (most recent call last)",
      "\u001b[0;32m/tmp/ipykernel_636167/3513749049.py\u001b[0m in \u001b[0;36m<module>\u001b[0;34m\u001b[0m\n\u001b[1;32m      1\u001b[0m \u001b[0mdf\u001b[0m \u001b[0;34m=\u001b[0m \u001b[0mpd\u001b[0m\u001b[0;34m.\u001b[0m\u001b[0mDataFrame\u001b[0m\u001b[0;34m(\u001b[0m\u001b[0;34m)\u001b[0m\u001b[0;34m\u001b[0m\u001b[0;34m\u001b[0m\u001b[0m\n\u001b[0;32m----> 2\u001b[0;31m \u001b[0mdf_\u001b[0m \u001b[0;34m=\u001b[0m \u001b[0mget_df\u001b[0m\u001b[0;34m(\u001b[0m\u001b[0mrootdir\u001b[0m\u001b[0;34m,\u001b[0m \u001b[0mdir_exp\u001b[0m\u001b[0;34m)\u001b[0m\u001b[0;34m\u001b[0m\u001b[0;34m\u001b[0m\u001b[0m\n\u001b[0m\u001b[1;32m      3\u001b[0m \u001b[0mdf\u001b[0m \u001b[0;34m=\u001b[0m \u001b[0mdf\u001b[0m\u001b[0;34m.\u001b[0m\u001b[0mappend\u001b[0m\u001b[0;34m(\u001b[0m\u001b[0mdf_\u001b[0m\u001b[0;34m)\u001b[0m\u001b[0;34m\u001b[0m\u001b[0;34m\u001b[0m\u001b[0m\n\u001b[1;32m      4\u001b[0m \u001b[0mdf\u001b[0m\u001b[0;34m[\u001b[0m\u001b[0;34m'Set'\u001b[0m\u001b[0;34m]\u001b[0m \u001b[0;34m=\u001b[0m \u001b[0;34m[\u001b[0m\u001b[0;34m'Test'\u001b[0m\u001b[0;34m]\u001b[0m \u001b[0;34m*\u001b[0m \u001b[0mdf\u001b[0m\u001b[0;34m.\u001b[0m\u001b[0mshape\u001b[0m\u001b[0;34m[\u001b[0m\u001b[0;36m0\u001b[0m\u001b[0;34m]\u001b[0m\u001b[0;34m\u001b[0m\u001b[0;34m\u001b[0m\u001b[0m\n",
      "\u001b[0;32m/tmp/ipykernel_636167/2648343164.py\u001b[0m in \u001b[0;36mget_df\u001b[0;34m(rootdir, dir_exp)\u001b[0m\n\u001b[1;32m      1\u001b[0m \u001b[0;32mdef\u001b[0m \u001b[0mget_df\u001b[0m\u001b[0;34m(\u001b[0m\u001b[0mrootdir\u001b[0m\u001b[0;34m,\u001b[0m \u001b[0mdir_exp\u001b[0m\u001b[0;34m)\u001b[0m\u001b[0;34m:\u001b[0m\u001b[0;34m\u001b[0m\u001b[0;34m\u001b[0m\u001b[0m\n\u001b[1;32m      2\u001b[0m     \u001b[0mpath_\u001b[0m \u001b[0;34m=\u001b[0m \u001b[0;34mf'{rootdir}/{dir_exp}/Tumor/results_table.csv'\u001b[0m\u001b[0;34m\u001b[0m\u001b[0;34m\u001b[0m\u001b[0m\n\u001b[0;32m----> 3\u001b[0;31m     \u001b[0mdf_\u001b[0m \u001b[0;34m=\u001b[0m \u001b[0mpd\u001b[0m\u001b[0;34m.\u001b[0m\u001b[0mread_csv\u001b[0m\u001b[0;34m(\u001b[0m\u001b[0mpath_\u001b[0m\u001b[0;34m)\u001b[0m\u001b[0;34m\u001b[0m\u001b[0;34m\u001b[0m\u001b[0m\n\u001b[0m\u001b[1;32m      4\u001b[0m     \u001b[0;32mreturn\u001b[0m \u001b[0mdf_\u001b[0m\u001b[0;34m\u001b[0m\u001b[0;34m\u001b[0m\u001b[0m\n",
      "\u001b[0;32m~/.local/lib/python3.9/site-packages/pandas/io/parsers.py\u001b[0m in \u001b[0;36mread_csv\u001b[0;34m(filepath_or_buffer, sep, delimiter, header, names, index_col, usecols, squeeze, prefix, mangle_dupe_cols, dtype, engine, converters, true_values, false_values, skipinitialspace, skiprows, skipfooter, nrows, na_values, keep_default_na, na_filter, verbose, skip_blank_lines, parse_dates, infer_datetime_format, keep_date_col, date_parser, dayfirst, cache_dates, iterator, chunksize, compression, thousands, decimal, lineterminator, quotechar, quoting, doublequote, escapechar, comment, encoding, dialect, error_bad_lines, warn_bad_lines, delim_whitespace, low_memory, memory_map, float_precision)\u001b[0m\n\u001b[1;32m    686\u001b[0m     )\n\u001b[1;32m    687\u001b[0m \u001b[0;34m\u001b[0m\u001b[0m\n\u001b[0;32m--> 688\u001b[0;31m     \u001b[0;32mreturn\u001b[0m \u001b[0m_read\u001b[0m\u001b[0;34m(\u001b[0m\u001b[0mfilepath_or_buffer\u001b[0m\u001b[0;34m,\u001b[0m \u001b[0mkwds\u001b[0m\u001b[0;34m)\u001b[0m\u001b[0;34m\u001b[0m\u001b[0;34m\u001b[0m\u001b[0m\n\u001b[0m\u001b[1;32m    689\u001b[0m \u001b[0;34m\u001b[0m\u001b[0m\n\u001b[1;32m    690\u001b[0m \u001b[0;34m\u001b[0m\u001b[0m\n",
      "\u001b[0;32m~/.local/lib/python3.9/site-packages/pandas/io/parsers.py\u001b[0m in \u001b[0;36m_read\u001b[0;34m(filepath_or_buffer, kwds)\u001b[0m\n\u001b[1;32m    452\u001b[0m \u001b[0;34m\u001b[0m\u001b[0m\n\u001b[1;32m    453\u001b[0m     \u001b[0;31m# Create the parser.\u001b[0m\u001b[0;34m\u001b[0m\u001b[0;34m\u001b[0m\u001b[0;34m\u001b[0m\u001b[0m\n\u001b[0;32m--> 454\u001b[0;31m     \u001b[0mparser\u001b[0m \u001b[0;34m=\u001b[0m \u001b[0mTextFileReader\u001b[0m\u001b[0;34m(\u001b[0m\u001b[0mfp_or_buf\u001b[0m\u001b[0;34m,\u001b[0m \u001b[0;34m**\u001b[0m\u001b[0mkwds\u001b[0m\u001b[0;34m)\u001b[0m\u001b[0;34m\u001b[0m\u001b[0;34m\u001b[0m\u001b[0m\n\u001b[0m\u001b[1;32m    455\u001b[0m \u001b[0;34m\u001b[0m\u001b[0m\n\u001b[1;32m    456\u001b[0m     \u001b[0;32mif\u001b[0m \u001b[0mchunksize\u001b[0m \u001b[0;32mor\u001b[0m \u001b[0miterator\u001b[0m\u001b[0;34m:\u001b[0m\u001b[0;34m\u001b[0m\u001b[0;34m\u001b[0m\u001b[0m\n",
      "\u001b[0;32m~/.local/lib/python3.9/site-packages/pandas/io/parsers.py\u001b[0m in \u001b[0;36m__init__\u001b[0;34m(self, f, engine, **kwds)\u001b[0m\n\u001b[1;32m    946\u001b[0m             \u001b[0mself\u001b[0m\u001b[0;34m.\u001b[0m\u001b[0moptions\u001b[0m\u001b[0;34m[\u001b[0m\u001b[0;34m\"has_index_names\"\u001b[0m\u001b[0;34m]\u001b[0m \u001b[0;34m=\u001b[0m \u001b[0mkwds\u001b[0m\u001b[0;34m[\u001b[0m\u001b[0;34m\"has_index_names\"\u001b[0m\u001b[0;34m]\u001b[0m\u001b[0;34m\u001b[0m\u001b[0;34m\u001b[0m\u001b[0m\n\u001b[1;32m    947\u001b[0m \u001b[0;34m\u001b[0m\u001b[0m\n\u001b[0;32m--> 948\u001b[0;31m         \u001b[0mself\u001b[0m\u001b[0;34m.\u001b[0m\u001b[0m_make_engine\u001b[0m\u001b[0;34m(\u001b[0m\u001b[0mself\u001b[0m\u001b[0;34m.\u001b[0m\u001b[0mengine\u001b[0m\u001b[0;34m)\u001b[0m\u001b[0;34m\u001b[0m\u001b[0;34m\u001b[0m\u001b[0m\n\u001b[0m\u001b[1;32m    949\u001b[0m \u001b[0;34m\u001b[0m\u001b[0m\n\u001b[1;32m    950\u001b[0m     \u001b[0;32mdef\u001b[0m \u001b[0mclose\u001b[0m\u001b[0;34m(\u001b[0m\u001b[0mself\u001b[0m\u001b[0;34m)\u001b[0m\u001b[0;34m:\u001b[0m\u001b[0;34m\u001b[0m\u001b[0;34m\u001b[0m\u001b[0m\n",
      "\u001b[0;32m~/.local/lib/python3.9/site-packages/pandas/io/parsers.py\u001b[0m in \u001b[0;36m_make_engine\u001b[0;34m(self, engine)\u001b[0m\n\u001b[1;32m   1178\u001b[0m     \u001b[0;32mdef\u001b[0m \u001b[0m_make_engine\u001b[0m\u001b[0;34m(\u001b[0m\u001b[0mself\u001b[0m\u001b[0;34m,\u001b[0m \u001b[0mengine\u001b[0m\u001b[0;34m=\u001b[0m\u001b[0;34m\"c\"\u001b[0m\u001b[0;34m)\u001b[0m\u001b[0;34m:\u001b[0m\u001b[0;34m\u001b[0m\u001b[0;34m\u001b[0m\u001b[0m\n\u001b[1;32m   1179\u001b[0m         \u001b[0;32mif\u001b[0m \u001b[0mengine\u001b[0m \u001b[0;34m==\u001b[0m \u001b[0;34m\"c\"\u001b[0m\u001b[0;34m:\u001b[0m\u001b[0;34m\u001b[0m\u001b[0;34m\u001b[0m\u001b[0m\n\u001b[0;32m-> 1180\u001b[0;31m             \u001b[0mself\u001b[0m\u001b[0;34m.\u001b[0m\u001b[0m_engine\u001b[0m \u001b[0;34m=\u001b[0m \u001b[0mCParserWrapper\u001b[0m\u001b[0;34m(\u001b[0m\u001b[0mself\u001b[0m\u001b[0;34m.\u001b[0m\u001b[0mf\u001b[0m\u001b[0;34m,\u001b[0m \u001b[0;34m**\u001b[0m\u001b[0mself\u001b[0m\u001b[0;34m.\u001b[0m\u001b[0moptions\u001b[0m\u001b[0;34m)\u001b[0m\u001b[0;34m\u001b[0m\u001b[0;34m\u001b[0m\u001b[0m\n\u001b[0m\u001b[1;32m   1181\u001b[0m         \u001b[0;32melse\u001b[0m\u001b[0;34m:\u001b[0m\u001b[0;34m\u001b[0m\u001b[0;34m\u001b[0m\u001b[0m\n\u001b[1;32m   1182\u001b[0m             \u001b[0;32mif\u001b[0m \u001b[0mengine\u001b[0m \u001b[0;34m==\u001b[0m \u001b[0;34m\"python\"\u001b[0m\u001b[0;34m:\u001b[0m\u001b[0;34m\u001b[0m\u001b[0;34m\u001b[0m\u001b[0m\n",
      "\u001b[0;32m~/.local/lib/python3.9/site-packages/pandas/io/parsers.py\u001b[0m in \u001b[0;36m__init__\u001b[0;34m(self, src, **kwds)\u001b[0m\n\u001b[1;32m   2008\u001b[0m         \u001b[0mkwds\u001b[0m\u001b[0;34m[\u001b[0m\u001b[0;34m\"usecols\"\u001b[0m\u001b[0;34m]\u001b[0m \u001b[0;34m=\u001b[0m \u001b[0mself\u001b[0m\u001b[0;34m.\u001b[0m\u001b[0musecols\u001b[0m\u001b[0;34m\u001b[0m\u001b[0;34m\u001b[0m\u001b[0m\n\u001b[1;32m   2009\u001b[0m \u001b[0;34m\u001b[0m\u001b[0m\n\u001b[0;32m-> 2010\u001b[0;31m         \u001b[0mself\u001b[0m\u001b[0;34m.\u001b[0m\u001b[0m_reader\u001b[0m \u001b[0;34m=\u001b[0m \u001b[0mparsers\u001b[0m\u001b[0;34m.\u001b[0m\u001b[0mTextReader\u001b[0m\u001b[0;34m(\u001b[0m\u001b[0msrc\u001b[0m\u001b[0;34m,\u001b[0m \u001b[0;34m**\u001b[0m\u001b[0mkwds\u001b[0m\u001b[0;34m)\u001b[0m\u001b[0;34m\u001b[0m\u001b[0;34m\u001b[0m\u001b[0m\n\u001b[0m\u001b[1;32m   2011\u001b[0m         \u001b[0mself\u001b[0m\u001b[0;34m.\u001b[0m\u001b[0munnamed_cols\u001b[0m \u001b[0;34m=\u001b[0m \u001b[0mself\u001b[0m\u001b[0;34m.\u001b[0m\u001b[0m_reader\u001b[0m\u001b[0;34m.\u001b[0m\u001b[0munnamed_cols\u001b[0m\u001b[0;34m\u001b[0m\u001b[0;34m\u001b[0m\u001b[0m\n\u001b[1;32m   2012\u001b[0m \u001b[0;34m\u001b[0m\u001b[0m\n",
      "\u001b[0;32m/gpfslocalsup/pub/anaconda-py3/2021.05/envs/pytorch-gpu-1.9.0+py3.9/lib/python3.9/site-packages/pandas/_libs/parsers.pyx\u001b[0m in \u001b[0;36mpandas._libs.parsers.TextReader.__cinit__\u001b[0;34m()\u001b[0m\n",
      "\u001b[0;32m/gpfslocalsup/pub/anaconda-py3/2021.05/envs/pytorch-gpu-1.9.0+py3.9/lib/python3.9/site-packages/pandas/_libs/parsers.pyx\u001b[0m in \u001b[0;36mpandas._libs.parsers.TextReader._setup_parser_source\u001b[0;34m()\u001b[0m\n",
      "\u001b[0;31mFileNotFoundError\u001b[0m: [Errno 2] No such file or directory: '/gpfsscratch/rech/ohv/ueu39kt/CFLOW/viz/TumorNormal_indivuidual_model_TNE0008/Tumor/results_table.csv'"
     ]
    }
   ],
   "source": [
    "df = pd.DataFrame()\n",
    "df_ = get_df(rootdir, dir_exp)\n",
    "df = df.append(df_)\n",
    "df['Set'] = ['Test'] * df.shape[0]"
   ]
  },
  {
   "cell_type": "code",
   "execution_count": null,
   "id": "50cbe766",
   "metadata": {},
   "outputs": [],
   "source": [
    "df_tr = pd.DataFrame()\n",
    "df_ = get_train_df(rootdir, dir_exp)\n",
    "df_tr = df_tr.append(df_)\n",
    "df_tr['Set'] = ['Train'] * df_tr.shape[0]"
   ]
  },
  {
   "cell_type": "code",
   "execution_count": null,
   "id": "40bccbc7",
   "metadata": {},
   "outputs": [],
   "source": [
    "df_all = df.append(df_tr)"
   ]
  },
  {
   "cell_type": "code",
   "execution_count": null,
   "id": "636f17c3",
   "metadata": {},
   "outputs": [],
   "source": [
    "df_all.head()"
   ]
  },
  {
   "cell_type": "code",
   "execution_count": null,
   "id": "42a1eee5",
   "metadata": {},
   "outputs": [],
   "source": [
    "sample_id = []\n",
    "for i in range(df_all.shape[0]):\n",
    "    sample_id.append(df_all.iloc[i,0].split('/')[-3])\n",
    "df_all['TNEID'] = sample_id"
   ]
  },
  {
   "cell_type": "code",
   "execution_count": null,
   "id": "659390c6",
   "metadata": {},
   "outputs": [],
   "source": [
    "sample_id = []\n",
    "for i in range(df_all.shape[0]):\n",
    "    sample_id.append(df_all.iloc[i,0].split('/')[-2])\n",
    "df_all['Class'] = sample_id"
   ]
  },
  {
   "cell_type": "code",
   "execution_count": null,
   "id": "31f0be3b",
   "metadata": {},
   "outputs": [],
   "source": [
    "mean_train = df_all.loc[(df_all['Set'] == 'Train') , 'MaxScoreAnomalyMap'].mean()\n",
    "df_all['MSE'] = (mean_train - df_all['MaxScoreAnomalyMap'])**2"
   ]
  },
  {
   "cell_type": "code",
   "execution_count": null,
   "id": "e9588071",
   "metadata": {},
   "outputs": [],
   "source": [
    "df_all.head()"
   ]
  },
  {
   "cell_type": "code",
   "execution_count": null,
   "id": "e7ab058a",
   "metadata": {},
   "outputs": [],
   "source": [
    "df_all.index = range(df_all.shape[0])"
   ]
  },
  {
   "cell_type": "code",
   "execution_count": null,
   "id": "db98ff2d",
   "metadata": {},
   "outputs": [],
   "source": [
    "df_all.loc[df_all['Class']== 'Normal', 'BinaryLabels'] = 0\n",
    "df_all.loc[df_all['Class']== 'Tumor', 'BinaryLabels'] = 1"
   ]
  },
  {
   "cell_type": "code",
   "execution_count": null,
   "id": "c65e18b9",
   "metadata": {},
   "outputs": [],
   "source": [
    "df_all.loc[df_all['Class']== 'Normal', 'binary_lab'] = 1\n",
    "df_all.loc[df_all['Class']== 'Tumor', 'binary_lab'] = 0"
   ]
  },
  {
   "cell_type": "code",
   "execution_count": null,
   "id": "f99e0e4e",
   "metadata": {},
   "outputs": [],
   "source": [
    "dfNormal = df_all.loc[df_all['Class'] == 'Normal']\n",
    "dfTumor = df_all.loc[df_all['Class'] == 'Tumor']\n",
    "sns.distplot(dfNormal['MaxScoreAnomalyMap'], hist=False, rug=True, color = 'red')\n",
    "sns.distplot(dfTumor['MaxScoreAnomalyMap'], hist=False, rug=True)"
   ]
  },
  {
   "cell_type": "code",
   "execution_count": null,
   "id": "7afac7c9",
   "metadata": {},
   "outputs": [],
   "source": [
    "dfNormal = df_all.loc[df_all['Class'] == 'Normal']\n",
    "dfTumor = df_all.loc[df_all['Class'] == 'Tumor']\n",
    "sns.distplot(dfNormal['MeanScoreAnomalyMap'], hist=False, rug=True, color = 'red')\n",
    "sns.distplot(dfTumor['MeanScoreAnomalyMap'], hist=False, rug=True)"
   ]
  },
  {
   "cell_type": "code",
   "execution_count": null,
   "id": "22668ad7",
   "metadata": {},
   "outputs": [],
   "source": [
    "df_all_test = df_all[(df_all['Set'] == 'Test')]\n",
    "dfNorm = df_all_test.loc[df_all_test['Class'] == 'Normal']\n",
    "dfTumor = df_all_test.loc[df_all_test['Class'] == 'Tumor']\n",
    "sns.distplot(dfNorm['MaxScoreAnomalyMap'], hist=False, rug=True, color = 'red')\n",
    "sns.distplot(dfTumor['MaxScoreAnomalyMap'], hist=False, rug=True)"
   ]
  },
  {
   "cell_type": "code",
   "execution_count": null,
   "id": "aba7276c",
   "metadata": {},
   "outputs": [],
   "source": [
    "df_all_test = df_all[(df_all['Set'] == 'Test')]\n",
    "dfNorm = df_all_test.loc[df_all_test['Class'] == 'Normal']\n",
    "dfTumor = df_all_test.loc[df_all_test['Class'] == 'Tumor']\n",
    "sns.distplot(dfNorm['MeanScoreAnomalyMap'], hist=False, rug=True, color = 'red')\n",
    "sns.distplot(dfTumor['MeanScoreAnomalyMap'], hist=False, rug=True)"
   ]
  },
  {
   "cell_type": "code",
   "execution_count": null,
   "id": "192ac8e1",
   "metadata": {},
   "outputs": [],
   "source": [
    "print(roc_auc_score(df_all_test['BinaryLabels'], df_all_test['MaxScoreAnomalyMap']))\n",
    "print(roc_auc_score(df_all_test['BinaryLabels'], df_all_test['MeanScoreAnomalyMap']))\n"
   ]
  },
  {
   "cell_type": "code",
   "execution_count": null,
   "id": "05978750",
   "metadata": {},
   "outputs": [],
   "source": [
    "with open(outfilename, 'a') as f:\n",
    "    f.write('DET ROC-AUC scores for MaxScoreAnomalyMap : {:.2f} \\n'.format(\n",
    "        roc_auc_score(df_all_test['BinaryLabels'], df_all_test['MaxScoreAnomalyMap'])))\n",
    "    f.write('DET ROC-AUC scores for MeanScoreAnomalyMap : {:.2f}\\n'.format(\n",
    "        roc_auc_score(df_all_test['BinaryLabels'], df_all_test['MeanScoreAnomalyMap'])))\n",
    "    f.close()"
   ]
  },
  {
   "cell_type": "code",
   "execution_count": null,
   "id": "9447e184",
   "metadata": {},
   "outputs": [],
   "source": [
    "set(df_all_test[df_all_test['Set'] == 'Test']['TNEID'])"
   ]
  },
  {
   "cell_type": "code",
   "execution_count": null,
   "id": "9be379c6",
   "metadata": {},
   "outputs": [],
   "source": [
    "tne_l =[]\n",
    "nb_normal = []\n",
    "nb_tumor = []\n",
    "roc_max = []\n",
    "roc_mean = []\n",
    "for tne in set(df_all_test[df_all_test['Set'] == 'Test']['TNEID']):\n",
    "    print('TNEID = ', tne)\n",
    "    tne_l.append(tne)\n",
    "    df_all_test_tne = df_all_test[ (df_all_test['TNEID'] == tne)]\n",
    "    print('Normal ', df_all_test_tne[df_all_test_tne['Class'] == 'Normal'].shape[0])\n",
    "    nb_normal.append(df_all_test_tne[df_all_test_tne['Class'] == 'Normal'].shape[0])\n",
    "    print('Tumor ', df_all_test_tne[df_all_test_tne['Class'] == 'Tumoral'].shape[0])\n",
    "    nb_tumor.append(df_all_test_tne[df_all_test_tne['Class'] == 'Tumoral'].shape[0])\n",
    "    print('Max ',roc_auc_score(df_all_test_tne['BinaryLabels'], df_all_test_tne['MaxScoreAnomalyMap']))\n",
    "    roc_max.append(roc_auc_score(df_all_test_tne['BinaryLabels'], df_all_test_tne['MaxScoreAnomalyMap']))\n",
    "    print('MEan ',roc_auc_score(df_all_test_tne['BinaryLabels'], df_all_test_tne['MeanScoreAnomalyMap']))\n",
    "    roc_mean.append(roc_auc_score(df_all_test_tne['BinaryLabels'], df_all_test_tne['MeanScoreAnomalyMap']))\n",
    "  \n",
    "    print('############################### \\n')\n",
    "roc_table = pd.DataFrame()\n",
    "roc_table['TNEID'] = tne_l\n",
    "roc_table['nb_normal'] = nb_normal\n",
    "roc_table['nb_tumor'] = nb_tumor       \n",
    "roc_table['roc_max'] = roc_max\n",
    "roc_table['roc_mean'] = roc_mean\n",
    "\n",
    "roc_table.to_csv('roc_table_tumor_normal.csv')"
   ]
  },
  {
   "cell_type": "code",
   "execution_count": null,
   "id": "b2c6d038",
   "metadata": {},
   "outputs": [],
   "source": [
    "roc_table.head()"
   ]
  },
  {
   "cell_type": "code",
   "execution_count": null,
   "id": "265904e2",
   "metadata": {},
   "outputs": [],
   "source": [
    "plt.figure(figsize=(25,15))\n",
    "ax = sns.boxplot(x=df_all_test['TNEID'], y=df_all_test['MaxScoreAnomalyMap'], palette= 'viridis')\n",
    "ax.tick_params(axis='x', rotation=90)"
   ]
  },
  {
   "cell_type": "code",
   "execution_count": null,
   "id": "25b47339",
   "metadata": {},
   "outputs": [],
   "source": [
    "plt.figure(figsize=(25,15))\n",
    "ax = sns.boxplot(x=df_all_test['TNEID'], y=df_all_test['MeanScoreAnomalyMap'], palette= 'viridis')\n",
    "ax.tick_params(axis='x', rotation=90)"
   ]
  },
  {
   "cell_type": "code",
   "execution_count": null,
   "id": "418e23ec",
   "metadata": {},
   "outputs": [],
   "source": [
    "df_all_test.head()\n"
   ]
  },
  {
   "cell_type": "code",
   "execution_count": null,
   "id": "7a8832af",
   "metadata": {},
   "outputs": [],
   "source": [
    "threshold = np.linspace(np.min(df_all_test['MeanScoreAnomalyMap']), np.max(df_all_test['MeanScoreAnomalyMap']), 500)\n",
    "precision_list = []\n",
    "recall_list = []\n",
    "f1_list = []\n",
    "roc_list = []\n",
    "FPR_list = []\n",
    "TPR_list = []\n",
    "specifity_list = []\n",
    "sensitivity_list = []\n",
    "print(len(threshold))\n",
    "#df_299 = df_299[(df_299['TNEID'] == 'TNE0001') | (df_299['TNEID'] == 'TNE0803')]\n",
    "df_MaxAnomalyScore = df_all_test['MeanScoreAnomalyMap']\n",
    "df_exp_label = df_all_test['BinaryLabels']\n",
    "for j in range(len(threshold)):\n",
    "    TP = 0\n",
    "    FP = 0\n",
    "    TN = 0\n",
    "    FN = 0\n",
    "\n",
    "    emp_label = []\n",
    "\n",
    "    for i in range(df_all_test.shape[0]):\n",
    "        MSEFM = df_MaxAnomalyScore.iloc[i]\n",
    "        exp_label = df_exp_label.iloc[i]\n",
    "        if MSEFM <= threshold[j]:\n",
    "            empirique_label = 0\n",
    "            emp_label.append(empirique_label)\n",
    "            if exp_label == empirique_label:\n",
    "                TN += 1\n",
    "            else:\n",
    "                FN += 1\n",
    "        else:\n",
    "            empirique_label = 1\n",
    "            emp_label.append(empirique_label)\n",
    "            if exp_label == empirique_label:\n",
    "                TP += 1\n",
    "            else:\n",
    "                FP += 1\n",
    "    try :\n",
    "        precision = TP / (TP + FP)\n",
    "    except:\n",
    "        precision = 0\n",
    "    try:\n",
    "        recall = TP / (TP + FN) #sensibilite \n",
    "    except:\n",
    "        recall = 0\n",
    "    try:\n",
    "        sprecificite = TN / (TN+FP)\n",
    "    except:\n",
    "        sprecificite = 0\n",
    "    try:\n",
    "        sensitivity = TP/ (TP+FN)\n",
    "    except:\n",
    "        sensitivity = 0\n",
    "    try:\n",
    "        TPR = TP / (TP + FN)\n",
    "    except:\n",
    "        TPR = 0\n",
    "    try:\n",
    "        spe = TN/(TN + FP)\n",
    "    except :\n",
    "        spe = 0\n",
    "    try:\n",
    "        FPR = FP / (FP + TN)\n",
    "    except:\n",
    "        FPR = 0\n",
    "    FPR_list.append(FPR)\n",
    "    TPR_list.append(TPR)\n",
    "    specifity_list.append(spe)\n",
    "    sensitivity_list.append(sensitivity)\n",
    "    y_true = np.array(df_exp_label.tolist())\n",
    "    y_scores = np.array(emp_label)\n",
    "    #roc = roc_auc_score(y_true,y_scores) # ?????\n",
    "    \n",
    "    precision_list.append(precision)\n",
    "    recall_list.append(recall)\n",
    "    #roc_list.append(roc)"
   ]
  },
  {
   "cell_type": "code",
   "execution_count": null,
   "id": "f081aebc",
   "metadata": {},
   "outputs": [],
   "source": [
    "plt.figure(figsize=(8,8))\n",
    "plt.plot(threshold, precision_list, label='precision')\n",
    "plt.plot(threshold, recall_list, label='recall')\n",
    "#plt.plot(threshold, roc_list, label='roc_auc')\n",
    "plt.legend()\n",
    "plt.title('Evolution of Recall, precision and ROC AUC depending on the Threshold Value')\n",
    "plt.xlabel('theshold')\n",
    "plt.show()"
   ]
  },
  {
   "cell_type": "code",
   "execution_count": null,
   "id": "26f0c796",
   "metadata": {},
   "outputs": [],
   "source": [
    "plt.figure(figsize=(8,8))\n",
    "plt.plot(threshold, TPR_list, label='TPR')\n",
    "plt.plot(threshold, FPR_list, label='FPR')\n",
    "plt.legend()\n",
    "plt.title('Evolution of Recall, precision and ROC AUC depending on the Threshold Value')\n",
    "plt.xlabel('theshold')\n",
    "plt.show()"
   ]
  },
  {
   "cell_type": "code",
   "execution_count": null,
   "id": "66a49261",
   "metadata": {},
   "outputs": [],
   "source": [
    "plt.figure(figsize=(8,8))\n",
    "plt.plot(threshold, specifity_list, label='specifity')\n",
    "plt.plot(threshold, recall_list, label='recall')\n",
    "plt.legend()\n",
    "plt.title('Evolution of Specificity and, Recall depending on the Threshold Value')\n",
    "plt.xlabel('theshold')\n",
    "plt.show()"
   ]
  },
  {
   "cell_type": "code",
   "execution_count": null,
   "id": "e7a1b4ea",
   "metadata": {},
   "outputs": [],
   "source": [
    "plt.figure(figsize=(8,8))\n",
    "plt.plot(threshold, specifity_list, label='specifity')\n",
    "plt.plot(threshold, recall_list, label='sensitivity')\n",
    "plt.legend()\n",
    "plt.title('Evolution of Specificity and, Recall depending on the Threshold Value')\n",
    "plt.xlabel('theshold')\n",
    "plt.show()"
   ]
  },
  {
   "cell_type": "code",
   "execution_count": null,
   "id": "5e2c2931",
   "metadata": {},
   "outputs": [],
   "source": [
    "# ROC Curve\n",
    "plt.figure(figsize=(8,8))\n",
    "plt.plot(FPR_list, TPR_list)\n",
    "plt.legend()\n",
    "plt.title('ROC Curve')\n",
    "plt.xlabel('FPR')\n",
    "plt.show()"
   ]
  },
  {
   "cell_type": "code",
   "execution_count": null,
   "id": "3f3766a3",
   "metadata": {},
   "outputs": [],
   "source": [
    "# ROC Curve\n",
    "x = np.linspace(0,1,100)\n",
    "y = x\n",
    "plt.figure(figsize=(8,8))\n",
    "plt.plot( 1- np.array(specifity_list) , sensitivity_list)\n",
    "plt.plot(x, y,'-.g')\n",
    "plt.legend()\n",
    "plt.title('ROC Curve : Max/Loss')\n",
    "plt.xlabel('1-Specificity')\n",
    "plt.ylabel('Sensibility')\n",
    "\n",
    "plt.show()"
   ]
  },
  {
   "cell_type": "markdown",
   "id": "a0a0f4a5",
   "metadata": {},
   "source": [
    "## Youden Index"
   ]
  },
  {
   "cell_type": "code",
   "execution_count": null,
   "id": "ee749ef1",
   "metadata": {},
   "outputs": [],
   "source": [
    "df_metric = pd.DataFrame()\n",
    "df_metric['threshold'] = threshold\n",
    "df_metric['Recall'] = TPR_list\n",
    "df_metric['FPR'] = FPR_list\n",
    "df_metric['Precison'] = precision_list\n",
    "df_metric['Specifity'] = specifity_list\n",
    "df_metric['Sensitivity'] = sensitivity_list\n",
    "df_metric['Recall/Specifity'] = np.array(TPR_list)/ np.array(specifity_list)"
   ]
  },
  {
   "cell_type": "code",
   "execution_count": null,
   "id": "81f02b13",
   "metadata": {},
   "outputs": [],
   "source": [
    "df_metric[(df_metric['Specifity'] < 0.95)&(df_metric['Specifity'] > 0.9)]"
   ]
  },
  {
   "cell_type": "code",
   "execution_count": null,
   "id": "8c38e296",
   "metadata": {},
   "outputs": [],
   "source": [
    "df_metric['YoudenIndex'] = df_metric['Sensitivity'] + df_metric['Specifity'] -1"
   ]
  },
  {
   "cell_type": "markdown",
   "id": "620df20e",
   "metadata": {},
   "source": [
    "+ Pr = TP / (TP + FP)\n",
    "+ Recall = TP  / (TP + FN)\n"
   ]
  },
  {
   "cell_type": "code",
   "execution_count": null,
   "id": "c72ea9a7",
   "metadata": {},
   "outputs": [],
   "source": [
    "df_metric.head()"
   ]
  },
  {
   "cell_type": "code",
   "execution_count": null,
   "id": "a387c0ff",
   "metadata": {},
   "outputs": [],
   "source": [
    "youden_threshold = df_metric[df_metric['YoudenIndex'] == max(df_metric['YoudenIndex'])]['threshold'].values"
   ]
  },
  {
   "cell_type": "code",
   "execution_count": null,
   "id": "4404648f",
   "metadata": {},
   "outputs": [],
   "source": [
    "youden_threshold"
   ]
  },
  {
   "cell_type": "code",
   "execution_count": null,
   "id": "5ee70353",
   "metadata": {},
   "outputs": [],
   "source": [
    "youden_threshold[0]"
   ]
  },
  {
   "cell_type": "code",
   "execution_count": null,
   "id": "20b52ae5",
   "metadata": {},
   "outputs": [],
   "source": [
    "with open(outfilename, 'a') as file:\n",
    "    file.write('youden_threshold = {} \\n'.format(youden_threshold[0]))\n",
    "    file.close()"
   ]
  },
  {
   "cell_type": "code",
   "execution_count": null,
   "id": "bff59e78",
   "metadata": {},
   "outputs": [],
   "source": [
    "max(df_metric['YoudenIndex'])"
   ]
  },
  {
   "cell_type": "code",
   "execution_count": null,
   "id": "bbf165a2",
   "metadata": {},
   "outputs": [],
   "source": [
    "with open(outfilename, 'a') as f:\n",
    "    f.write('youden score = {} \\n '.format(max(df_metric['YoudenIndex'])))"
   ]
  },
  {
   "cell_type": "code",
   "execution_count": null,
   "id": "5d67c334",
   "metadata": {},
   "outputs": [],
   "source": [
    "df_metric[(df_metric['Recall'] < 1) & (df_metric['Recall'] > 0.95)]"
   ]
  },
  {
   "cell_type": "code",
   "execution_count": null,
   "id": "3c943ce2",
   "metadata": {},
   "outputs": [],
   "source": [
    "#youden_threshold = -0.000012"
   ]
  },
  {
   "cell_type": "code",
   "execution_count": null,
   "id": "f7caf39e",
   "metadata": {},
   "outputs": [],
   "source": []
  },
  {
   "cell_type": "code",
   "execution_count": null,
   "id": "740de873",
   "metadata": {},
   "outputs": [],
   "source": []
  }
 ],
 "metadata": {
  "kernelspec": {
   "display_name": "Python 3 (ipykernel)",
   "language": "python",
   "name": "python3"
  },
  "language_info": {
   "codemirror_mode": {
    "name": "ipython",
    "version": 3
   },
   "file_extension": ".py",
   "mimetype": "text/x-python",
   "name": "python",
   "nbconvert_exporter": "python",
   "pygments_lexer": "ipython3",
   "version": "3.9.6"
  }
 },
 "nbformat": 4,
 "nbformat_minor": 5
}
