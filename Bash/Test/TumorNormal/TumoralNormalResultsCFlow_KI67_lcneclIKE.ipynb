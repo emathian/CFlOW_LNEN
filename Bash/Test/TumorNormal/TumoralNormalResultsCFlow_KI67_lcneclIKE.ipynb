{
 "cells": [
  {
   "cell_type": "code",
   "execution_count": 1,
   "id": "3ad31a63",
   "metadata": {},
   "outputs": [],
   "source": [
    "import matplotlib.pyplot as plt\n",
    "import numpy as np\n",
    "import os\n",
    "import cv2\n",
    "import pandas as pd\n",
    "import argparse\n",
    "from sklearn.metrics import roc_auc_score, average_precision_score, roc_curve\n",
    "from sklearn.metrics import precision_recall_curve\n",
    "import seaborn as sns\n",
    "import warnings\n",
    "warnings.filterwarnings('ignore')"
   ]
  },
  {
   "cell_type": "code",
   "execution_count": 383,
   "id": "e1a8f7b2",
   "metadata": {},
   "outputs": [],
   "source": [
    "# tets\n",
    "rootdir  = '/gpfsscratch/rech/ohv/ueu39kt/CFLOW/viz'\n",
    "dir_exp = 'TumorNormal_Ki67_modelTNE1977'\n",
    "outfilename = 'TumorNormal_Ki67_modelTNE1977_Results.txt'"
   ]
  },
  {
   "cell_type": "code",
   "execution_count": 384,
   "id": "25cfd9b8",
   "metadata": {},
   "outputs": [],
   "source": [
    "def get_df(rootdir, dir_exp):\n",
    "    path_ = f'{rootdir}/{dir_exp}/Tumor/results_table.csv'\n",
    "    df_ = pd.read_csv(path_)\n",
    "    return df_"
   ]
  },
  {
   "cell_type": "code",
   "execution_count": 385,
   "id": "99e59a0a",
   "metadata": {},
   "outputs": [],
   "source": [
    "def get_train_df(rootdir, dir_exp):\n",
    "    path_ = f'{rootdir}/{dir_exp}/Tumor/results_table_train.csv'\n",
    "    df_ = pd.read_csv(path_)\n",
    "    return df_"
   ]
  },
  {
   "cell_type": "code",
   "execution_count": 386,
   "id": "8abe5f0e",
   "metadata": {},
   "outputs": [],
   "source": [
    "df = pd.DataFrame()\n",
    "df_ = get_df(rootdir, dir_exp)\n",
    "df = df.append(df_)\n",
    "df['Set'] = ['Test'] * df.shape[0]"
   ]
  },
  {
   "cell_type": "code",
   "execution_count": 387,
   "id": "50cbe766",
   "metadata": {},
   "outputs": [],
   "source": [
    "df_tr = pd.DataFrame()\n",
    "df_ = get_train_df(rootdir, dir_exp)\n",
    "df_tr = df_tr.append(df_)\n",
    "df_tr['Set'] = ['Train'] * df_tr.shape[0]"
   ]
  },
  {
   "cell_type": "code",
   "execution_count": 388,
   "id": "40bccbc7",
   "metadata": {},
   "outputs": [],
   "source": [
    "df_all = df.append(df_tr)"
   ]
  },
  {
   "cell_type": "code",
   "execution_count": 389,
   "id": "636f17c3",
   "metadata": {},
   "outputs": [
    {
     "data": {
      "text/html": [
       "<div>\n",
       "<style scoped>\n",
       "    .dataframe tbody tr th:only-of-type {\n",
       "        vertical-align: middle;\n",
       "    }\n",
       "\n",
       "    .dataframe tbody tr th {\n",
       "        vertical-align: top;\n",
       "    }\n",
       "\n",
       "    .dataframe thead th {\n",
       "        text-align: right;\n",
       "    }\n",
       "</style>\n",
       "<table border=\"1\" class=\"dataframe\">\n",
       "  <thead>\n",
       "    <tr style=\"text-align: right;\">\n",
       "      <th></th>\n",
       "      <th>file_path</th>\n",
       "      <th>binary_lab</th>\n",
       "      <th>MaxScoreAnomalyMap</th>\n",
       "      <th>MeanScoreAnomalyMap</th>\n",
       "      <th>Set</th>\n",
       "    </tr>\n",
       "  </thead>\n",
       "  <tbody>\n",
       "    <tr>\n",
       "      <th>0</th>\n",
       "      <td>/gpfsscratch/rech/ohv/ueu39kt/KI67_individual_...</td>\n",
       "      <td>0</td>\n",
       "      <td>1.972825</td>\n",
       "      <td>1.457782</td>\n",
       "      <td>Test</td>\n",
       "    </tr>\n",
       "    <tr>\n",
       "      <th>1</th>\n",
       "      <td>/gpfsscratch/rech/ohv/ueu39kt/KI67_individual_...</td>\n",
       "      <td>0</td>\n",
       "      <td>2.109298</td>\n",
       "      <td>1.407057</td>\n",
       "      <td>Test</td>\n",
       "    </tr>\n",
       "    <tr>\n",
       "      <th>2</th>\n",
       "      <td>/gpfsscratch/rech/ohv/ueu39kt/KI67_individual_...</td>\n",
       "      <td>0</td>\n",
       "      <td>2.084627</td>\n",
       "      <td>1.432211</td>\n",
       "      <td>Test</td>\n",
       "    </tr>\n",
       "    <tr>\n",
       "      <th>3</th>\n",
       "      <td>/gpfsscratch/rech/ohv/ueu39kt/KI67_individual_...</td>\n",
       "      <td>0</td>\n",
       "      <td>2.061749</td>\n",
       "      <td>1.549255</td>\n",
       "      <td>Test</td>\n",
       "    </tr>\n",
       "    <tr>\n",
       "      <th>4</th>\n",
       "      <td>/gpfsscratch/rech/ohv/ueu39kt/KI67_individual_...</td>\n",
       "      <td>0</td>\n",
       "      <td>2.136374</td>\n",
       "      <td>1.480252</td>\n",
       "      <td>Test</td>\n",
       "    </tr>\n",
       "  </tbody>\n",
       "</table>\n",
       "</div>"
      ],
      "text/plain": [
       "                                           file_path  binary_lab  \\\n",
       "0  /gpfsscratch/rech/ohv/ueu39kt/KI67_individual_...           0   \n",
       "1  /gpfsscratch/rech/ohv/ueu39kt/KI67_individual_...           0   \n",
       "2  /gpfsscratch/rech/ohv/ueu39kt/KI67_individual_...           0   \n",
       "3  /gpfsscratch/rech/ohv/ueu39kt/KI67_individual_...           0   \n",
       "4  /gpfsscratch/rech/ohv/ueu39kt/KI67_individual_...           0   \n",
       "\n",
       "   MaxScoreAnomalyMap  MeanScoreAnomalyMap   Set  \n",
       "0            1.972825             1.457782  Test  \n",
       "1            2.109298             1.407057  Test  \n",
       "2            2.084627             1.432211  Test  \n",
       "3            2.061749             1.549255  Test  \n",
       "4            2.136374             1.480252  Test  "
      ]
     },
     "execution_count": 389,
     "metadata": {},
     "output_type": "execute_result"
    }
   ],
   "source": [
    "df_all.head()"
   ]
  },
  {
   "cell_type": "code",
   "execution_count": 390,
   "id": "42a1eee5",
   "metadata": {},
   "outputs": [],
   "source": [
    "sample_id = []\n",
    "for i in range(df_all.shape[0]):\n",
    "    sample_id.append(df_all.iloc[i,0].split('/')[-3])\n",
    "df_all['TNEID'] = sample_id"
   ]
  },
  {
   "cell_type": "code",
   "execution_count": 391,
   "id": "659390c6",
   "metadata": {},
   "outputs": [],
   "source": [
    "sample_id = []\n",
    "for i in range(df_all.shape[0]):\n",
    "    sample_id.append(df_all.iloc[i,0].split('/')[-2])\n",
    "df_all['Class'] = sample_id"
   ]
  },
  {
   "cell_type": "code",
   "execution_count": 392,
   "id": "31f0be3b",
   "metadata": {},
   "outputs": [],
   "source": [
    "mean_train = df_all.loc[(df_all['Set'] == 'Train') , 'MaxScoreAnomalyMap'].mean()\n",
    "df_all['MSE'] = (mean_train - df_all['MaxScoreAnomalyMap'])**2"
   ]
  },
  {
   "cell_type": "code",
   "execution_count": 393,
   "id": "e9588071",
   "metadata": {},
   "outputs": [
    {
     "data": {
      "text/html": [
       "<div>\n",
       "<style scoped>\n",
       "    .dataframe tbody tr th:only-of-type {\n",
       "        vertical-align: middle;\n",
       "    }\n",
       "\n",
       "    .dataframe tbody tr th {\n",
       "        vertical-align: top;\n",
       "    }\n",
       "\n",
       "    .dataframe thead th {\n",
       "        text-align: right;\n",
       "    }\n",
       "</style>\n",
       "<table border=\"1\" class=\"dataframe\">\n",
       "  <thead>\n",
       "    <tr style=\"text-align: right;\">\n",
       "      <th></th>\n",
       "      <th>file_path</th>\n",
       "      <th>binary_lab</th>\n",
       "      <th>MaxScoreAnomalyMap</th>\n",
       "      <th>MeanScoreAnomalyMap</th>\n",
       "      <th>Set</th>\n",
       "      <th>TNEID</th>\n",
       "      <th>Class</th>\n",
       "      <th>MSE</th>\n",
       "    </tr>\n",
       "  </thead>\n",
       "  <tbody>\n",
       "    <tr>\n",
       "      <th>0</th>\n",
       "      <td>/gpfsscratch/rech/ohv/ueu39kt/KI67_individual_...</td>\n",
       "      <td>0</td>\n",
       "      <td>1.972825</td>\n",
       "      <td>1.457782</td>\n",
       "      <td>Test</td>\n",
       "      <td>TNE1977</td>\n",
       "      <td>Normal</td>\n",
       "      <td>0.052859</td>\n",
       "    </tr>\n",
       "    <tr>\n",
       "      <th>1</th>\n",
       "      <td>/gpfsscratch/rech/ohv/ueu39kt/KI67_individual_...</td>\n",
       "      <td>0</td>\n",
       "      <td>2.109298</td>\n",
       "      <td>1.407057</td>\n",
       "      <td>Test</td>\n",
       "      <td>TNE1977</td>\n",
       "      <td>Normal</td>\n",
       "      <td>0.008731</td>\n",
       "    </tr>\n",
       "    <tr>\n",
       "      <th>2</th>\n",
       "      <td>/gpfsscratch/rech/ohv/ueu39kt/KI67_individual_...</td>\n",
       "      <td>0</td>\n",
       "      <td>2.084627</td>\n",
       "      <td>1.432211</td>\n",
       "      <td>Test</td>\n",
       "      <td>TNE1977</td>\n",
       "      <td>Normal</td>\n",
       "      <td>0.013950</td>\n",
       "    </tr>\n",
       "    <tr>\n",
       "      <th>3</th>\n",
       "      <td>/gpfsscratch/rech/ohv/ueu39kt/KI67_individual_...</td>\n",
       "      <td>0</td>\n",
       "      <td>2.061749</td>\n",
       "      <td>1.549255</td>\n",
       "      <td>Test</td>\n",
       "      <td>TNE1977</td>\n",
       "      <td>Normal</td>\n",
       "      <td>0.019877</td>\n",
       "    </tr>\n",
       "    <tr>\n",
       "      <th>4</th>\n",
       "      <td>/gpfsscratch/rech/ohv/ueu39kt/KI67_individual_...</td>\n",
       "      <td>0</td>\n",
       "      <td>2.136374</td>\n",
       "      <td>1.480252</td>\n",
       "      <td>Test</td>\n",
       "      <td>TNE1977</td>\n",
       "      <td>Normal</td>\n",
       "      <td>0.004404</td>\n",
       "    </tr>\n",
       "  </tbody>\n",
       "</table>\n",
       "</div>"
      ],
      "text/plain": [
       "                                           file_path  binary_lab  \\\n",
       "0  /gpfsscratch/rech/ohv/ueu39kt/KI67_individual_...           0   \n",
       "1  /gpfsscratch/rech/ohv/ueu39kt/KI67_individual_...           0   \n",
       "2  /gpfsscratch/rech/ohv/ueu39kt/KI67_individual_...           0   \n",
       "3  /gpfsscratch/rech/ohv/ueu39kt/KI67_individual_...           0   \n",
       "4  /gpfsscratch/rech/ohv/ueu39kt/KI67_individual_...           0   \n",
       "\n",
       "   MaxScoreAnomalyMap  MeanScoreAnomalyMap   Set    TNEID   Class       MSE  \n",
       "0            1.972825             1.457782  Test  TNE1977  Normal  0.052859  \n",
       "1            2.109298             1.407057  Test  TNE1977  Normal  0.008731  \n",
       "2            2.084627             1.432211  Test  TNE1977  Normal  0.013950  \n",
       "3            2.061749             1.549255  Test  TNE1977  Normal  0.019877  \n",
       "4            2.136374             1.480252  Test  TNE1977  Normal  0.004404  "
      ]
     },
     "execution_count": 393,
     "metadata": {},
     "output_type": "execute_result"
    }
   ],
   "source": [
    "df_all.head()"
   ]
  },
  {
   "cell_type": "code",
   "execution_count": 394,
   "id": "e7ab058a",
   "metadata": {},
   "outputs": [],
   "source": [
    "df_all.index = range(df_all.shape[0])"
   ]
  },
  {
   "cell_type": "code",
   "execution_count": 395,
   "id": "db98ff2d",
   "metadata": {},
   "outputs": [],
   "source": [
    "df_all.loc[df_all['Class']== 'Normal', 'BinaryLabels'] = 0\n",
    "df_all.loc[df_all['Class']== 'Tumoral', 'BinaryLabels'] = 1"
   ]
  },
  {
   "cell_type": "code",
   "execution_count": 396,
   "id": "c65e18b9",
   "metadata": {},
   "outputs": [],
   "source": [
    "df_all.loc[df_all['Class']== 'Normal', 'binary_lab'] = 1\n",
    "df_all.loc[df_all['Class']== 'Tumoral', 'binary_lab'] = 0"
   ]
  },
  {
   "cell_type": "code",
   "execution_count": 397,
   "id": "f99e0e4e",
   "metadata": {},
   "outputs": [
    {
     "data": {
      "text/plain": [
       "<AxesSubplot:xlabel='MaxScoreAnomalyMap', ylabel='Density'>"
      ]
     },
     "execution_count": 397,
     "metadata": {},
     "output_type": "execute_result"
    },
    {
     "data": {
      "image/png": "[encoded data removed]",
      "text/plain": [
       "<Figure size 432x288 with 1 Axes>"
      ]
     },
     "metadata": {
      "needs_background": "light"
     },
     "output_type": "display_data"
    }
   ],
   "source": [
    "dfNormal = df_all.loc[df_all['Class'] == 'Normal']\n",
    "dfTumor = df_all.loc[df_all['Class'] == 'Tumoral']\n",
    "sns.distplot(dfNormal['MaxScoreAnomalyMap'], hist=False, rug=True, color = 'red')\n",
    "sns.distplot(dfTumor['MaxScoreAnomalyMap'], hist=False, rug=True)"
   ]
  },
  {
   "cell_type": "code",
   "execution_count": 398,
   "id": "7afac7c9",
   "metadata": {},
   "outputs": [
    {
     "data": {
      "text/plain": [
       "<AxesSubplot:xlabel='MeanScoreAnomalyMap', ylabel='Density'>"
      ]
     },
     "execution_count": 398,
     "metadata": {},
     "output_type": "execute_result"
    },
    {
     "data": {
      "image/png": "[encoded data removed]",
      "text/plain": [
       "<Figure size 432x288 with 1 Axes>"
      ]
     },
     "metadata": {
      "needs_background": "light"
     },
     "output_type": "display_data"
    }
   ],
   "source": [
    "dfNormal = df_all.loc[df_all['Class'] == 'Normal']\n",
    "dfTumor = df_all.loc[df_all['Class'] == 'Tumoral']\n",
    "sns.distplot(dfNormal['MeanScoreAnomalyMap'], hist=False, rug=True, color = 'red')\n",
    "sns.distplot(dfTumor['MeanScoreAnomalyMap'], hist=False, rug=True)"
   ]
  },
  {
   "cell_type": "code",
   "execution_count": 399,
   "id": "22668ad7",
   "metadata": {},
   "outputs": [
    {
     "data": {
      "text/plain": [
       "<AxesSubplot:xlabel='MaxScoreAnomalyMap', ylabel='Density'>"
      ]
     },
     "execution_count": 399,
     "metadata": {},
     "output_type": "execute_result"
    },
    {
     "data": {
      "image/png": "[encoded data removed]",
      "text/plain": [
       "<Figure size 432x288 with 1 Axes>"
      ]
     },
     "metadata": {
      "needs_background": "light"
     },
     "output_type": "display_data"
    }
   ],
   "source": [
    "df_all_test = df_all[(df_all['Set'] == 'Test')]\n",
    "dfNorm = df_all_test.loc[df_all_test['Class'] == 'Normal']\n",
    "dfTumor = df_all_test.loc[df_all_test['Class'] == 'Tumoral']\n",
    "sns.distplot(dfNorm['MaxScoreAnomalyMap'], hist=False, rug=True, color = 'red')\n",
    "sns.distplot(dfTumor['MaxScoreAnomalyMap'], hist=False, rug=True)"
   ]
  },
  {
   "cell_type": "code",
   "execution_count": 400,
   "id": "aba7276c",
   "metadata": {},
   "outputs": [
    {
     "data": {
      "text/plain": [
       "<AxesSubplot:xlabel='MeanScoreAnomalyMap', ylabel='Density'>"
      ]
     },
     "execution_count": 400,
     "metadata": {},
     "output_type": "execute_result"
    },
    {
     "data": {
      "image/png": "[encoded data removed]",
      "text/plain": [
       "<Figure size 432x288 with 1 Axes>"
      ]
     },
     "metadata": {
      "needs_background": "light"
     },
     "output_type": "display_data"
    }
   ],
   "source": [
    "df_all_test = df_all[(df_all['Set'] == 'Test')]\n",
    "dfNorm = df_all_test.loc[df_all_test['Class'] == 'Normal']\n",
    "dfTumor = df_all_test.loc[df_all_test['Class'] == 'Tumoral']\n",
    "sns.distplot(dfNorm['MeanScoreAnomalyMap'], hist=False, rug=True, color = 'red')\n",
    "sns.distplot(dfTumor['MeanScoreAnomalyMap'], hist=False, rug=True)"
   ]
  },
  {
   "cell_type": "code",
   "execution_count": 401,
   "id": "192ac8e1",
   "metadata": {},
   "outputs": [
    {
     "name": "stdout",
     "output_type": "stream",
     "text": [
      "0.7960199004975124\n",
      "0.6318407960199004\n"
     ]
    }
   ],
   "source": [
    "print(roc_auc_score(df_all_test['BinaryLabels'], df_all_test['MaxScoreAnomalyMap']))\n",
    "print(roc_auc_score(df_all_test['BinaryLabels'], df_all_test['MeanScoreAnomalyMap']))\n"
   ]
  },
  {
   "cell_type": "code",
   "execution_count": 402,
   "id": "05978750",
   "metadata": {},
   "outputs": [],
   "source": [
    "with open(outfilename, 'a') as f:\n",
    "    f.write('DET ROC-AUC scores for MaxScoreAnomalyMap : {:.2f} \\n'.format(\n",
    "        roc_auc_score(df_all_test['BinaryLabels'], df_all_test['MaxScoreAnomalyMap'])))\n",
    "    f.write('DET ROC-AUC scores for MeanScoreAnomalyMap : {:.2f}\\n'.format(\n",
    "        roc_auc_score(df_all_test['BinaryLabels'], df_all_test['MeanScoreAnomalyMap'])))\n",
    "    f.close()"
   ]
  },
  {
   "cell_type": "code",
   "execution_count": 403,
   "id": "9447e184",
   "metadata": {},
   "outputs": [
    {
     "data": {
      "text/plain": [
       "{'TNE1977'}"
      ]
     },
     "execution_count": 403,
     "metadata": {},
     "output_type": "execute_result"
    }
   ],
   "source": [
    "set(df_all_test[df_all_test['Set'] == 'Test']['TNEID'])"
   ]
  },
  {
   "cell_type": "code",
   "execution_count": 404,
   "id": "9be379c6",
   "metadata": {},
   "outputs": [
    {
     "name": "stdout",
     "output_type": "stream",
     "text": [
      "TNEID =  TNE1977\n",
      "Normal  67\n",
      "Tumor  9\n",
      "Max  0.7960199004975124\n",
      "MEan  0.6318407960199004\n",
      "############################### \n",
      "\n"
     ]
    }
   ],
   "source": [
    "tne_l =[]\n",
    "nb_normal = []\n",
    "nb_tumor = []\n",
    "roc_max = []\n",
    "roc_mean = []\n",
    "for tne in set(df_all_test[df_all_test['Set'] == 'Test']['TNEID']):\n",
    "    print('TNEID = ', tne)\n",
    "    tne_l.append(tne)\n",
    "    df_all_test_tne = df_all_test[ (df_all_test['TNEID'] == tne)]\n",
    "    print('Normal ', df_all_test_tne[df_all_test_tne['Class'] == 'Normal'].shape[0])\n",
    "    nb_normal.append(df_all_test_tne[df_all_test_tne['Class'] == 'Normal'].shape[0])\n",
    "    print('Tumor ', df_all_test_tne[df_all_test_tne['Class'] == 'Tumoral'].shape[0])\n",
    "    nb_tumor.append(df_all_test_tne[df_all_test_tne['Class'] == 'Tumoral'].shape[0])\n",
    "    print('Max ',roc_auc_score(df_all_test_tne['BinaryLabels'], df_all_test_tne['MaxScoreAnomalyMap']))\n",
    "    roc_max.append(roc_auc_score(df_all_test_tne['BinaryLabels'], df_all_test_tne['MaxScoreAnomalyMap']))\n",
    "    print('MEan ',roc_auc_score(df_all_test_tne['BinaryLabels'], df_all_test_tne['MeanScoreAnomalyMap']))\n",
    "    roc_mean.append(roc_auc_score(df_all_test_tne['BinaryLabels'], df_all_test_tne['MeanScoreAnomalyMap']))\n",
    "  \n",
    "    print('############################### \\n')\n",
    "roc_table = pd.DataFrame()\n",
    "roc_table['TNEID'] = tne_l\n",
    "roc_table['nb_normal'] = nb_normal\n",
    "roc_table['nb_tumor'] = nb_tumor       \n",
    "roc_table['roc_max'] = roc_max\n",
    "roc_table['roc_mean'] = roc_mean\n",
    "\n",
    "roc_table.to_csv('roc_table_tumor_normal.csv')"
   ]
  },
  {
   "cell_type": "code",
   "execution_count": 405,
   "id": "b2c6d038",
   "metadata": {},
   "outputs": [
    {
     "data": {
      "text/html": [
       "<div>\n",
       "<style scoped>\n",
       "    .dataframe tbody tr th:only-of-type {\n",
       "        vertical-align: middle;\n",
       "    }\n",
       "\n",
       "    .dataframe tbody tr th {\n",
       "        vertical-align: top;\n",
       "    }\n",
       "\n",
       "    .dataframe thead th {\n",
       "        text-align: right;\n",
       "    }\n",
       "</style>\n",
       "<table border=\"1\" class=\"dataframe\">\n",
       "  <thead>\n",
       "    <tr style=\"text-align: right;\">\n",
       "      <th></th>\n",
       "      <th>TNEID</th>\n",
       "      <th>nb_normal</th>\n",
       "      <th>nb_tumor</th>\n",
       "      <th>roc_max</th>\n",
       "      <th>roc_mean</th>\n",
       "    </tr>\n",
       "  </thead>\n",
       "  <tbody>\n",
       "    <tr>\n",
       "      <th>0</th>\n",
       "      <td>TNE1977</td>\n",
       "      <td>67</td>\n",
       "      <td>9</td>\n",
       "      <td>0.79602</td>\n",
       "      <td>0.631841</td>\n",
       "    </tr>\n",
       "  </tbody>\n",
       "</table>\n",
       "</div>"
      ],
      "text/plain": [
       "     TNEID  nb_normal  nb_tumor  roc_max  roc_mean\n",
       "0  TNE1977         67         9  0.79602  0.631841"
      ]
     },
     "execution_count": 405,
     "metadata": {},
     "output_type": "execute_result"
    }
   ],
   "source": [
    "roc_table.head()"
   ]
  },
  {
   "cell_type": "code",
   "execution_count": 406,
   "id": "265904e2",
   "metadata": {},
   "outputs": [
    {
     "data": {
      "image/png": "[encoded data removed]",
      "text/plain": [
       "<Figure size 1800x1080 with 1 Axes>"
      ]
     },
     "metadata": {
      "needs_background": "light"
     },
     "output_type": "display_data"
    }
   ],
   "source": [
    "plt.figure(figsize=(25,15))\n",
    "ax = sns.boxplot(x=df_all_test['TNEID'], y=df_all_test['MaxScoreAnomalyMap'], palette= 'viridis')\n",
    "ax.tick_params(axis='x', rotation=90)"
   ]
  },
  {
   "cell_type": "code",
   "execution_count": 407,
   "id": "25b47339",
   "metadata": {},
   "outputs": [
    {
     "data": {
      "image/png": "[encoded data removed]",
      "text/plain": [
       "<Figure size 1800x1080 with 1 Axes>"
      ]
     },
     "metadata": {
      "needs_background": "light"
     },
     "output_type": "display_data"
    }
   ],
   "source": [
    "plt.figure(figsize=(25,15))\n",
    "ax = sns.boxplot(x=df_all_test['TNEID'], y=df_all_test['MeanScoreAnomalyMap'], palette= 'viridis')\n",
    "ax.tick_params(axis='x', rotation=90)"
   ]
  },
  {
   "cell_type": "code",
   "execution_count": 408,
   "id": "418e23ec",
   "metadata": {},
   "outputs": [
    {
     "data": {
      "text/html": [
       "<div>\n",
       "<style scoped>\n",
       "    .dataframe tbody tr th:only-of-type {\n",
       "        vertical-align: middle;\n",
       "    }\n",
       "\n",
       "    .dataframe tbody tr th {\n",
       "        vertical-align: top;\n",
       "    }\n",
       "\n",
       "    .dataframe thead th {\n",
       "        text-align: right;\n",
       "    }\n",
       "</style>\n",
       "<table border=\"1\" class=\"dataframe\">\n",
       "  <thead>\n",
       "    <tr style=\"text-align: right;\">\n",
       "      <th></th>\n",
       "      <th>file_path</th>\n",
       "      <th>binary_lab</th>\n",
       "      <th>MaxScoreAnomalyMap</th>\n",
       "      <th>MeanScoreAnomalyMap</th>\n",
       "      <th>Set</th>\n",
       "      <th>TNEID</th>\n",
       "      <th>Class</th>\n",
       "      <th>MSE</th>\n",
       "      <th>BinaryLabels</th>\n",
       "    </tr>\n",
       "  </thead>\n",
       "  <tbody>\n",
       "    <tr>\n",
       "      <th>0</th>\n",
       "      <td>/gpfsscratch/rech/ohv/ueu39kt/KI67_individual_...</td>\n",
       "      <td>1</td>\n",
       "      <td>1.972825</td>\n",
       "      <td>1.457782</td>\n",
       "      <td>Test</td>\n",
       "      <td>TNE1977</td>\n",
       "      <td>Normal</td>\n",
       "      <td>0.052859</td>\n",
       "      <td>0.0</td>\n",
       "    </tr>\n",
       "    <tr>\n",
       "      <th>1</th>\n",
       "      <td>/gpfsscratch/rech/ohv/ueu39kt/KI67_individual_...</td>\n",
       "      <td>1</td>\n",
       "      <td>2.109298</td>\n",
       "      <td>1.407057</td>\n",
       "      <td>Test</td>\n",
       "      <td>TNE1977</td>\n",
       "      <td>Normal</td>\n",
       "      <td>0.008731</td>\n",
       "      <td>0.0</td>\n",
       "    </tr>\n",
       "    <tr>\n",
       "      <th>2</th>\n",
       "      <td>/gpfsscratch/rech/ohv/ueu39kt/KI67_individual_...</td>\n",
       "      <td>1</td>\n",
       "      <td>2.084627</td>\n",
       "      <td>1.432211</td>\n",
       "      <td>Test</td>\n",
       "      <td>TNE1977</td>\n",
       "      <td>Normal</td>\n",
       "      <td>0.013950</td>\n",
       "      <td>0.0</td>\n",
       "    </tr>\n",
       "    <tr>\n",
       "      <th>3</th>\n",
       "      <td>/gpfsscratch/rech/ohv/ueu39kt/KI67_individual_...</td>\n",
       "      <td>1</td>\n",
       "      <td>2.061749</td>\n",
       "      <td>1.549255</td>\n",
       "      <td>Test</td>\n",
       "      <td>TNE1977</td>\n",
       "      <td>Normal</td>\n",
       "      <td>0.019877</td>\n",
       "      <td>0.0</td>\n",
       "    </tr>\n",
       "    <tr>\n",
       "      <th>4</th>\n",
       "      <td>/gpfsscratch/rech/ohv/ueu39kt/KI67_individual_...</td>\n",
       "      <td>1</td>\n",
       "      <td>2.136374</td>\n",
       "      <td>1.480252</td>\n",
       "      <td>Test</td>\n",
       "      <td>TNE1977</td>\n",
       "      <td>Normal</td>\n",
       "      <td>0.004404</td>\n",
       "      <td>0.0</td>\n",
       "    </tr>\n",
       "  </tbody>\n",
       "</table>\n",
       "</div>"
      ],
      "text/plain": [
       "                                           file_path  binary_lab  \\\n",
       "0  /gpfsscratch/rech/ohv/ueu39kt/KI67_individual_...           1   \n",
       "1  /gpfsscratch/rech/ohv/ueu39kt/KI67_individual_...           1   \n",
       "2  /gpfsscratch/rech/ohv/ueu39kt/KI67_individual_...           1   \n",
       "3  /gpfsscratch/rech/ohv/ueu39kt/KI67_individual_...           1   \n",
       "4  /gpfsscratch/rech/ohv/ueu39kt/KI67_individual_...           1   \n",
       "\n",
       "   MaxScoreAnomalyMap  MeanScoreAnomalyMap   Set    TNEID   Class       MSE  \\\n",
       "0            1.972825             1.457782  Test  TNE1977  Normal  0.052859   \n",
       "1            2.109298             1.407057  Test  TNE1977  Normal  0.008731   \n",
       "2            2.084627             1.432211  Test  TNE1977  Normal  0.013950   \n",
       "3            2.061749             1.549255  Test  TNE1977  Normal  0.019877   \n",
       "4            2.136374             1.480252  Test  TNE1977  Normal  0.004404   \n",
       "\n",
       "   BinaryLabels  \n",
       "0           0.0  \n",
       "1           0.0  \n",
       "2           0.0  \n",
       "3           0.0  \n",
       "4           0.0  "
      ]
     },
     "execution_count": 408,
     "metadata": {},
     "output_type": "execute_result"
    }
   ],
   "source": [
    "df_all_test.head()\n"
   ]
  },
  {
   "cell_type": "code",
   "execution_count": 428,
   "id": "7a8832af",
   "metadata": {},
   "outputs": [
    {
     "name": "stdout",
     "output_type": "stream",
     "text": [
      "500\n"
     ]
    }
   ],
   "source": [
    "threshold = np.linspace(np.min(df_all_test['MeanScoreAnomalyMap']), np.max(df_all_test['MeanScoreAnomalyMap']), 500)\n",
    "precision_list = []\n",
    "recall_list = []\n",
    "f1_list = []\n",
    "roc_list = []\n",
    "FPR_list = []\n",
    "TPR_list = []\n",
    "specifity_list = []\n",
    "sensitivity_list = []\n",
    "print(len(threshold))\n",
    "#df_299 = df_299[(df_299['TNEID'] == 'TNE0001') | (df_299['TNEID'] == 'TNE0803')]\n",
    "df_MaxAnomalyScore = df_all_test['MeanScoreAnomalyMap']\n",
    "df_exp_label = df_all_test['BinaryLabels']\n",
    "for j in range(len(threshold)):\n",
    "    TP = 0\n",
    "    FP = 0\n",
    "    TN = 0\n",
    "    FN = 0\n",
    "\n",
    "    emp_label = []\n",
    "\n",
    "    for i in range(df_all_test.shape[0]):\n",
    "        MSEFM = df_MaxAnomalyScore.iloc[i]\n",
    "        exp_label = df_exp_label.iloc[i]\n",
    "        if MSEFM <= threshold[j]:\n",
    "            empirique_label = 0\n",
    "            emp_label.append(empirique_label)\n",
    "            if exp_label == empirique_label:\n",
    "                TN += 1\n",
    "            else:\n",
    "                FN += 1\n",
    "        else:\n",
    "            empirique_label = 1\n",
    "            emp_label.append(empirique_label)\n",
    "            if exp_label == empirique_label:\n",
    "                TP += 1\n",
    "            else:\n",
    "                FP += 1\n",
    "    try :\n",
    "        precision = TP / (TP + FP)\n",
    "    except:\n",
    "        precision = 0\n",
    "    try:\n",
    "        recall = TP / (TP + FN) #sensibilite \n",
    "    except:\n",
    "        recall = 0\n",
    "    try:\n",
    "        sprecificite = TN / (TN+FP)\n",
    "    except:\n",
    "        sprecificite = 0\n",
    "    try:\n",
    "        sensitivity = TP/ (TP+FN)\n",
    "    except:\n",
    "        sensitivity = 0\n",
    "    try:\n",
    "        TPR = TP / (TP + FN)\n",
    "    except:\n",
    "        TPR = 0\n",
    "    try:\n",
    "        spe = TN/(TN + FP)\n",
    "    except :\n",
    "        spe = 0\n",
    "    try:\n",
    "        FPR = FP / (FP + TN)\n",
    "    except:\n",
    "        FPR = 0\n",
    "    FPR_list.append(FPR)\n",
    "    TPR_list.append(TPR)\n",
    "    specifity_list.append(spe)\n",
    "    sensitivity_list.append(sensitivity)\n",
    "    y_true = np.array(df_exp_label.tolist())\n",
    "    y_scores = np.array(emp_label)\n",
    "    #roc = roc_auc_score(y_true,y_scores) # ?????\n",
    "    \n",
    "    precision_list.append(precision)\n",
    "    recall_list.append(recall)\n",
    "    #roc_list.append(roc)"
   ]
  },
  {
   "cell_type": "code",
   "execution_count": 429,
   "id": "f081aebc",
   "metadata": {},
   "outputs": [
    {
     "data": {
      "image/png": "[encoded data removed]",
      "text/plain": [
       "<Figure size 576x576 with 1 Axes>"
      ]
     },
     "metadata": {
      "needs_background": "light"
     },
     "output_type": "display_data"
    }
   ],
   "source": [
    "plt.figure(figsize=(8,8))\n",
    "plt.plot(threshold, precision_list, label='precision')\n",
    "plt.plot(threshold, recall_list, label='recall')\n",
    "#plt.plot(threshold, roc_list, label='roc_auc')\n",
    "plt.legend()\n",
    "plt.title('Evolution of Recall, precision and ROC AUC depending on the Threshold Value')\n",
    "plt.xlabel('theshold')\n",
    "plt.show()"
   ]
  },
  {
   "cell_type": "code",
   "execution_count": 430,
   "id": "26f0c796",
   "metadata": {},
   "outputs": [
    {
     "data": {
      "image/png": "[encoded data removed]",
      "text/plain": [
       "<Figure size 576x576 with 1 Axes>"
      ]
     },
     "metadata": {
      "needs_background": "light"
     },
     "output_type": "display_data"
    }
   ],
   "source": [
    "plt.figure(figsize=(8,8))\n",
    "plt.plot(threshold, TPR_list, label='TPR')\n",
    "plt.plot(threshold, FPR_list, label='FPR')\n",
    "plt.legend()\n",
    "plt.title('Evolution of Recall, precision and ROC AUC depending on the Threshold Value')\n",
    "plt.xlabel('theshold')\n",
    "plt.show()"
   ]
  },
  {
   "cell_type": "code",
   "execution_count": 431,
   "id": "66a49261",
   "metadata": {},
   "outputs": [
    {
     "data": {
      "image/png": "[encoded data removed]",
      "text/plain": [
       "<Figure size 576x576 with 1 Axes>"
      ]
     },
     "metadata": {
      "needs_background": "light"
     },
     "output_type": "display_data"
    }
   ],
   "source": [
    "plt.figure(figsize=(8,8))\n",
    "plt.plot(threshold, specifity_list, label='specifity')\n",
    "plt.plot(threshold, recall_list, label='recall')\n",
    "plt.legend()\n",
    "plt.title('Evolution of Specificity and, Recall depending on the Threshold Value')\n",
    "plt.xlabel('theshold')\n",
    "plt.show()"
   ]
  },
  {
   "cell_type": "code",
   "execution_count": 432,
   "id": "e7a1b4ea",
   "metadata": {},
   "outputs": [
    {
     "data": {
      "image/png": "[encoded data removed]",
      "text/plain": [
       "<Figure size 576x576 with 1 Axes>"
      ]
     },
     "metadata": {
      "needs_background": "light"
     },
     "output_type": "display_data"
    }
   ],
   "source": [
    "plt.figure(figsize=(8,8))\n",
    "plt.plot(threshold, specifity_list, label='specifity')\n",
    "plt.plot(threshold, recall_list, label='sensitivity')\n",
    "plt.legend()\n",
    "plt.title('Evolution of Specificity and, Recall depending on the Threshold Value')\n",
    "plt.xlabel('theshold')\n",
    "plt.show()"
   ]
  },
  {
   "cell_type": "code",
   "execution_count": 433,
   "id": "5e2c2931",
   "metadata": {},
   "outputs": [
    {
     "name": "stderr",
     "output_type": "stream",
     "text": [
      "No handles with labels found to put in legend.\n"
     ]
    },
    {
     "data": {
      "image/png": "[encoded data removed]",
      "text/plain": [
       "<Figure size 576x576 with 1 Axes>"
      ]
     },
     "metadata": {
      "needs_background": "light"
     },
     "output_type": "display_data"
    }
   ],
   "source": [
    "# ROC Curve\n",
    "plt.figure(figsize=(8,8))\n",
    "plt.plot(FPR_list, TPR_list)\n",
    "plt.legend()\n",
    "plt.title('ROC Curve')\n",
    "plt.xlabel('FPR')\n",
    "plt.show()"
   ]
  },
  {
   "cell_type": "code",
   "execution_count": 434,
   "id": "3f3766a3",
   "metadata": {},
   "outputs": [
    {
     "name": "stderr",
     "output_type": "stream",
     "text": [
      "No handles with labels found to put in legend.\n"
     ]
    },
    {
     "data": {
      "image/png": "[encoded data removed]",
      "text/plain": [
       "<Figure size 576x576 with 1 Axes>"
      ]
     },
     "metadata": {
      "needs_background": "light"
     },
     "output_type": "display_data"
    }
   ],
   "source": [
    "# ROC Curve\n",
    "x = np.linspace(0,1,100)\n",
    "y = x\n",
    "plt.figure(figsize=(8,8))\n",
    "plt.plot( 1- np.array(specifity_list) , sensitivity_list)\n",
    "plt.plot(x, y,'-.g')\n",
    "plt.legend()\n",
    "plt.title('ROC Curve : Max/Loss')\n",
    "plt.xlabel('1-Specificity')\n",
    "plt.ylabel('Sensibility')\n",
    "\n",
    "plt.show()"
   ]
  },
  {
   "cell_type": "markdown",
   "id": "a0a0f4a5",
   "metadata": {},
   "source": [
    "## Youden Index"
   ]
  },
  {
   "cell_type": "code",
   "execution_count": 435,
   "id": "ee749ef1",
   "metadata": {},
   "outputs": [],
   "source": [
    "df_metric = pd.DataFrame()\n",
    "df_metric['threshold'] = threshold\n",
    "df_metric['Recall'] = TPR_list\n",
    "df_metric['FPR'] = FPR_list\n",
    "df_metric['Precison'] = precision_list\n",
    "df_metric['Specifity'] = specifity_list\n",
    "df_metric['Sensitivity'] = sensitivity_list\n",
    "df_metric['Recall/Specifity'] = np.array(TPR_list)/ np.array(specifity_list)"
   ]
  },
  {
   "cell_type": "code",
   "execution_count": 436,
   "id": "81f02b13",
   "metadata": {},
   "outputs": [
    {
     "data": {
      "text/html": [
       "<div>\n",
       "<style scoped>\n",
       "    .dataframe tbody tr th:only-of-type {\n",
       "        vertical-align: middle;\n",
       "    }\n",
       "\n",
       "    .dataframe tbody tr th {\n",
       "        vertical-align: top;\n",
       "    }\n",
       "\n",
       "    .dataframe thead th {\n",
       "        text-align: right;\n",
       "    }\n",
       "</style>\n",
       "<table border=\"1\" class=\"dataframe\">\n",
       "  <thead>\n",
       "    <tr style=\"text-align: right;\">\n",
       "      <th></th>\n",
       "      <th>threshold</th>\n",
       "      <th>Recall</th>\n",
       "      <th>FPR</th>\n",
       "      <th>Precison</th>\n",
       "      <th>Specifity</th>\n",
       "      <th>Sensitivity</th>\n",
       "      <th>Recall/Specifity</th>\n",
       "    </tr>\n",
       "  </thead>\n",
       "  <tbody>\n",
       "    <tr>\n",
       "      <th>302</th>\n",
       "      <td>2.261038</td>\n",
       "      <td>0.555556</td>\n",
       "      <td>0.089552</td>\n",
       "      <td>0.454545</td>\n",
       "      <td>0.910448</td>\n",
       "      <td>0.555556</td>\n",
       "      <td>0.610200</td>\n",
       "    </tr>\n",
       "    <tr>\n",
       "      <th>303</th>\n",
       "      <td>2.262882</td>\n",
       "      <td>0.555556</td>\n",
       "      <td>0.089552</td>\n",
       "      <td>0.454545</td>\n",
       "      <td>0.910448</td>\n",
       "      <td>0.555556</td>\n",
       "      <td>0.610200</td>\n",
       "    </tr>\n",
       "    <tr>\n",
       "      <th>304</th>\n",
       "      <td>2.264726</td>\n",
       "      <td>0.555556</td>\n",
       "      <td>0.089552</td>\n",
       "      <td>0.454545</td>\n",
       "      <td>0.910448</td>\n",
       "      <td>0.555556</td>\n",
       "      <td>0.610200</td>\n",
       "    </tr>\n",
       "    <tr>\n",
       "      <th>305</th>\n",
       "      <td>2.266569</td>\n",
       "      <td>0.555556</td>\n",
       "      <td>0.089552</td>\n",
       "      <td>0.454545</td>\n",
       "      <td>0.910448</td>\n",
       "      <td>0.555556</td>\n",
       "      <td>0.610200</td>\n",
       "    </tr>\n",
       "    <tr>\n",
       "      <th>306</th>\n",
       "      <td>2.268413</td>\n",
       "      <td>0.555556</td>\n",
       "      <td>0.089552</td>\n",
       "      <td>0.454545</td>\n",
       "      <td>0.910448</td>\n",
       "      <td>0.555556</td>\n",
       "      <td>0.610200</td>\n",
       "    </tr>\n",
       "    <tr>\n",
       "      <th>307</th>\n",
       "      <td>2.270257</td>\n",
       "      <td>0.555556</td>\n",
       "      <td>0.089552</td>\n",
       "      <td>0.454545</td>\n",
       "      <td>0.910448</td>\n",
       "      <td>0.555556</td>\n",
       "      <td>0.610200</td>\n",
       "    </tr>\n",
       "    <tr>\n",
       "      <th>308</th>\n",
       "      <td>2.272100</td>\n",
       "      <td>0.555556</td>\n",
       "      <td>0.089552</td>\n",
       "      <td>0.454545</td>\n",
       "      <td>0.910448</td>\n",
       "      <td>0.555556</td>\n",
       "      <td>0.610200</td>\n",
       "    </tr>\n",
       "    <tr>\n",
       "      <th>309</th>\n",
       "      <td>2.273944</td>\n",
       "      <td>0.555556</td>\n",
       "      <td>0.089552</td>\n",
       "      <td>0.454545</td>\n",
       "      <td>0.910448</td>\n",
       "      <td>0.555556</td>\n",
       "      <td>0.610200</td>\n",
       "    </tr>\n",
       "    <tr>\n",
       "      <th>310</th>\n",
       "      <td>2.275788</td>\n",
       "      <td>0.555556</td>\n",
       "      <td>0.074627</td>\n",
       "      <td>0.500000</td>\n",
       "      <td>0.925373</td>\n",
       "      <td>0.555556</td>\n",
       "      <td>0.600358</td>\n",
       "    </tr>\n",
       "    <tr>\n",
       "      <th>311</th>\n",
       "      <td>2.277632</td>\n",
       "      <td>0.555556</td>\n",
       "      <td>0.074627</td>\n",
       "      <td>0.500000</td>\n",
       "      <td>0.925373</td>\n",
       "      <td>0.555556</td>\n",
       "      <td>0.600358</td>\n",
       "    </tr>\n",
       "    <tr>\n",
       "      <th>312</th>\n",
       "      <td>2.279475</td>\n",
       "      <td>0.555556</td>\n",
       "      <td>0.074627</td>\n",
       "      <td>0.500000</td>\n",
       "      <td>0.925373</td>\n",
       "      <td>0.555556</td>\n",
       "      <td>0.600358</td>\n",
       "    </tr>\n",
       "    <tr>\n",
       "      <th>313</th>\n",
       "      <td>2.281319</td>\n",
       "      <td>0.555556</td>\n",
       "      <td>0.074627</td>\n",
       "      <td>0.500000</td>\n",
       "      <td>0.925373</td>\n",
       "      <td>0.555556</td>\n",
       "      <td>0.600358</td>\n",
       "    </tr>\n",
       "    <tr>\n",
       "      <th>314</th>\n",
       "      <td>2.283163</td>\n",
       "      <td>0.555556</td>\n",
       "      <td>0.074627</td>\n",
       "      <td>0.500000</td>\n",
       "      <td>0.925373</td>\n",
       "      <td>0.555556</td>\n",
       "      <td>0.600358</td>\n",
       "    </tr>\n",
       "    <tr>\n",
       "      <th>315</th>\n",
       "      <td>2.285006</td>\n",
       "      <td>0.555556</td>\n",
       "      <td>0.074627</td>\n",
       "      <td>0.500000</td>\n",
       "      <td>0.925373</td>\n",
       "      <td>0.555556</td>\n",
       "      <td>0.600358</td>\n",
       "    </tr>\n",
       "    <tr>\n",
       "      <th>316</th>\n",
       "      <td>2.286850</td>\n",
       "      <td>0.555556</td>\n",
       "      <td>0.074627</td>\n",
       "      <td>0.500000</td>\n",
       "      <td>0.925373</td>\n",
       "      <td>0.555556</td>\n",
       "      <td>0.600358</td>\n",
       "    </tr>\n",
       "    <tr>\n",
       "      <th>317</th>\n",
       "      <td>2.288694</td>\n",
       "      <td>0.555556</td>\n",
       "      <td>0.059701</td>\n",
       "      <td>0.555556</td>\n",
       "      <td>0.940299</td>\n",
       "      <td>0.555556</td>\n",
       "      <td>0.590829</td>\n",
       "    </tr>\n",
       "    <tr>\n",
       "      <th>318</th>\n",
       "      <td>2.290537</td>\n",
       "      <td>0.555556</td>\n",
       "      <td>0.059701</td>\n",
       "      <td>0.555556</td>\n",
       "      <td>0.940299</td>\n",
       "      <td>0.555556</td>\n",
       "      <td>0.590829</td>\n",
       "    </tr>\n",
       "    <tr>\n",
       "      <th>319</th>\n",
       "      <td>2.292381</td>\n",
       "      <td>0.555556</td>\n",
       "      <td>0.059701</td>\n",
       "      <td>0.555556</td>\n",
       "      <td>0.940299</td>\n",
       "      <td>0.555556</td>\n",
       "      <td>0.590829</td>\n",
       "    </tr>\n",
       "    <tr>\n",
       "      <th>320</th>\n",
       "      <td>2.294225</td>\n",
       "      <td>0.555556</td>\n",
       "      <td>0.059701</td>\n",
       "      <td>0.555556</td>\n",
       "      <td>0.940299</td>\n",
       "      <td>0.555556</td>\n",
       "      <td>0.590829</td>\n",
       "    </tr>\n",
       "    <tr>\n",
       "      <th>321</th>\n",
       "      <td>2.296069</td>\n",
       "      <td>0.555556</td>\n",
       "      <td>0.059701</td>\n",
       "      <td>0.555556</td>\n",
       "      <td>0.940299</td>\n",
       "      <td>0.555556</td>\n",
       "      <td>0.590829</td>\n",
       "    </tr>\n",
       "    <tr>\n",
       "      <th>322</th>\n",
       "      <td>2.297912</td>\n",
       "      <td>0.555556</td>\n",
       "      <td>0.059701</td>\n",
       "      <td>0.555556</td>\n",
       "      <td>0.940299</td>\n",
       "      <td>0.555556</td>\n",
       "      <td>0.590829</td>\n",
       "    </tr>\n",
       "  </tbody>\n",
       "</table>\n",
       "</div>"
      ],
      "text/plain": [
       "     threshold    Recall       FPR  Precison  Specifity  Sensitivity  \\\n",
       "302   2.261038  0.555556  0.089552  0.454545   0.910448     0.555556   \n",
       "303   2.262882  0.555556  0.089552  0.454545   0.910448     0.555556   \n",
       "304   2.264726  0.555556  0.089552  0.454545   0.910448     0.555556   \n",
       "305   2.266569  0.555556  0.089552  0.454545   0.910448     0.555556   \n",
       "306   2.268413  0.555556  0.089552  0.454545   0.910448     0.555556   \n",
       "307   2.270257  0.555556  0.089552  0.454545   0.910448     0.555556   \n",
       "308   2.272100  0.555556  0.089552  0.454545   0.910448     0.555556   \n",
       "309   2.273944  0.555556  0.089552  0.454545   0.910448     0.555556   \n",
       "310   2.275788  0.555556  0.074627  0.500000   0.925373     0.555556   \n",
       "311   2.277632  0.555556  0.074627  0.500000   0.925373     0.555556   \n",
       "312   2.279475  0.555556  0.074627  0.500000   0.925373     0.555556   \n",
       "313   2.281319  0.555556  0.074627  0.500000   0.925373     0.555556   \n",
       "314   2.283163  0.555556  0.074627  0.500000   0.925373     0.555556   \n",
       "315   2.285006  0.555556  0.074627  0.500000   0.925373     0.555556   \n",
       "316   2.286850  0.555556  0.074627  0.500000   0.925373     0.555556   \n",
       "317   2.288694  0.555556  0.059701  0.555556   0.940299     0.555556   \n",
       "318   2.290537  0.555556  0.059701  0.555556   0.940299     0.555556   \n",
       "319   2.292381  0.555556  0.059701  0.555556   0.940299     0.555556   \n",
       "320   2.294225  0.555556  0.059701  0.555556   0.940299     0.555556   \n",
       "321   2.296069  0.555556  0.059701  0.555556   0.940299     0.555556   \n",
       "322   2.297912  0.555556  0.059701  0.555556   0.940299     0.555556   \n",
       "\n",
       "     Recall/Specifity  \n",
       "302          0.610200  \n",
       "303          0.610200  \n",
       "304          0.610200  \n",
       "305          0.610200  \n",
       "306          0.610200  \n",
       "307          0.610200  \n",
       "308          0.610200  \n",
       "309          0.610200  \n",
       "310          0.600358  \n",
       "311          0.600358  \n",
       "312          0.600358  \n",
       "313          0.600358  \n",
       "314          0.600358  \n",
       "315          0.600358  \n",
       "316          0.600358  \n",
       "317          0.590829  \n",
       "318          0.590829  \n",
       "319          0.590829  \n",
       "320          0.590829  \n",
       "321          0.590829  \n",
       "322          0.590829  "
      ]
     },
     "execution_count": 436,
     "metadata": {},
     "output_type": "execute_result"
    }
   ],
   "source": [
    "df_metric[(df_metric['Specifity'] < 0.95)&(df_metric['Specifity'] > 0.9)]"
   ]
  },
  {
   "cell_type": "code",
   "execution_count": 437,
   "id": "8c38e296",
   "metadata": {},
   "outputs": [],
   "source": [
    "df_metric['YoudenIndex'] = df_metric['Sensitivity'] + df_metric['Specifity'] -1"
   ]
  },
  {
   "cell_type": "markdown",
   "id": "620df20e",
   "metadata": {},
   "source": [
    "+ Pr = TP / (TP + FP)\n",
    "+ Recall = TP  / (TP + FN)\n"
   ]
  },
  {
   "cell_type": "code",
   "execution_count": 438,
   "id": "c72ea9a7",
   "metadata": {},
   "outputs": [
    {
     "data": {
      "text/html": [
       "<div>\n",
       "<style scoped>\n",
       "    .dataframe tbody tr th:only-of-type {\n",
       "        vertical-align: middle;\n",
       "    }\n",
       "\n",
       "    .dataframe tbody tr th {\n",
       "        vertical-align: top;\n",
       "    }\n",
       "\n",
       "    .dataframe thead th {\n",
       "        text-align: right;\n",
       "    }\n",
       "</style>\n",
       "<table border=\"1\" class=\"dataframe\">\n",
       "  <thead>\n",
       "    <tr style=\"text-align: right;\">\n",
       "      <th></th>\n",
       "      <th>threshold</th>\n",
       "      <th>Recall</th>\n",
       "      <th>FPR</th>\n",
       "      <th>Precison</th>\n",
       "      <th>Specifity</th>\n",
       "      <th>Sensitivity</th>\n",
       "      <th>Recall/Specifity</th>\n",
       "      <th>YoudenIndex</th>\n",
       "    </tr>\n",
       "  </thead>\n",
       "  <tbody>\n",
       "    <tr>\n",
       "      <th>0</th>\n",
       "      <td>1.704239</td>\n",
       "      <td>1.0</td>\n",
       "      <td>0.985075</td>\n",
       "      <td>0.120000</td>\n",
       "      <td>0.014925</td>\n",
       "      <td>1.0</td>\n",
       "      <td>67.0</td>\n",
       "      <td>0.014925</td>\n",
       "    </tr>\n",
       "    <tr>\n",
       "      <th>1</th>\n",
       "      <td>1.706082</td>\n",
       "      <td>1.0</td>\n",
       "      <td>0.970149</td>\n",
       "      <td>0.121622</td>\n",
       "      <td>0.029851</td>\n",
       "      <td>1.0</td>\n",
       "      <td>33.5</td>\n",
       "      <td>0.029851</td>\n",
       "    </tr>\n",
       "    <tr>\n",
       "      <th>2</th>\n",
       "      <td>1.707926</td>\n",
       "      <td>1.0</td>\n",
       "      <td>0.970149</td>\n",
       "      <td>0.121622</td>\n",
       "      <td>0.029851</td>\n",
       "      <td>1.0</td>\n",
       "      <td>33.5</td>\n",
       "      <td>0.029851</td>\n",
       "    </tr>\n",
       "    <tr>\n",
       "      <th>3</th>\n",
       "      <td>1.709770</td>\n",
       "      <td>1.0</td>\n",
       "      <td>0.970149</td>\n",
       "      <td>0.121622</td>\n",
       "      <td>0.029851</td>\n",
       "      <td>1.0</td>\n",
       "      <td>33.5</td>\n",
       "      <td>0.029851</td>\n",
       "    </tr>\n",
       "    <tr>\n",
       "      <th>4</th>\n",
       "      <td>1.711614</td>\n",
       "      <td>1.0</td>\n",
       "      <td>0.970149</td>\n",
       "      <td>0.121622</td>\n",
       "      <td>0.029851</td>\n",
       "      <td>1.0</td>\n",
       "      <td>33.5</td>\n",
       "      <td>0.029851</td>\n",
       "    </tr>\n",
       "  </tbody>\n",
       "</table>\n",
       "</div>"
      ],
      "text/plain": [
       "   threshold  Recall       FPR  Precison  Specifity  Sensitivity  \\\n",
       "0   1.704239     1.0  0.985075  0.120000   0.014925          1.0   \n",
       "1   1.706082     1.0  0.970149  0.121622   0.029851          1.0   \n",
       "2   1.707926     1.0  0.970149  0.121622   0.029851          1.0   \n",
       "3   1.709770     1.0  0.970149  0.121622   0.029851          1.0   \n",
       "4   1.711614     1.0  0.970149  0.121622   0.029851          1.0   \n",
       "\n",
       "   Recall/Specifity  YoudenIndex  \n",
       "0              67.0     0.014925  \n",
       "1              33.5     0.029851  \n",
       "2              33.5     0.029851  \n",
       "3              33.5     0.029851  \n",
       "4              33.5     0.029851  "
      ]
     },
     "execution_count": 438,
     "metadata": {},
     "output_type": "execute_result"
    }
   ],
   "source": [
    "df_metric.head()"
   ]
  },
  {
   "cell_type": "code",
   "execution_count": 439,
   "id": "a387c0ff",
   "metadata": {},
   "outputs": [],
   "source": [
    "youden_threshold = df_metric[df_metric['YoudenIndex'] == max(df_metric['YoudenIndex'])]['threshold'].values"
   ]
  },
  {
   "cell_type": "code",
   "execution_count": 440,
   "id": "4404648f",
   "metadata": {},
   "outputs": [
    {
     "data": {
      "text/plain": [
       "array([2.30897452, 2.31081822, 2.31266193, 2.31450564, 2.31634934,\n",
       "       2.31819305, 2.32003676, 2.32188046, 2.32372417, 2.32556788,\n",
       "       2.32741158, 2.32925529, 2.33109899, 2.3329427 , 2.33478641,\n",
       "       2.33663011, 2.33847382, 2.34031753, 2.34216123, 2.34400494,\n",
       "       2.34584865, 2.34769235, 2.34953606, 2.35137977, 2.35322347,\n",
       "       2.35506718, 2.35691089, 2.35875459, 2.3605983 , 2.362442  ,\n",
       "       2.36428571, 2.36612942, 2.36797312, 2.36981683, 2.37166054,\n",
       "       2.37350424, 2.37534795, 2.37719166, 2.37903536, 2.38087907,\n",
       "       2.38272278, 2.38456648, 2.38641019, 2.3882539 , 2.3900976 ])"
      ]
     },
     "execution_count": 440,
     "metadata": {},
     "output_type": "execute_result"
    }
   ],
   "source": [
    "youden_threshold"
   ]
  },
  {
   "cell_type": "code",
   "execution_count": 441,
   "id": "5ee70353",
   "metadata": {},
   "outputs": [
    {
     "data": {
      "text/plain": [
       "2.3089745171155482"
      ]
     },
     "execution_count": 441,
     "metadata": {},
     "output_type": "execute_result"
    }
   ],
   "source": [
    "youden_threshold[0]"
   ]
  },
  {
   "cell_type": "code",
   "execution_count": 442,
   "id": "20b52ae5",
   "metadata": {},
   "outputs": [],
   "source": [
    "with open(outfilename, 'a') as file:\n",
    "    file.write('youden_threshold = {} \\n'.format(youden_threshold[0]))\n",
    "    file.close()"
   ]
  },
  {
   "cell_type": "code",
   "execution_count": 443,
   "id": "bff59e78",
   "metadata": {},
   "outputs": [
    {
     "data": {
      "text/plain": [
       "0.525704809286899"
      ]
     },
     "execution_count": 443,
     "metadata": {},
     "output_type": "execute_result"
    }
   ],
   "source": [
    "max(df_metric['YoudenIndex'])"
   ]
  },
  {
   "cell_type": "code",
   "execution_count": 444,
   "id": "bbf165a2",
   "metadata": {},
   "outputs": [],
   "source": [
    "with open(outfilename, 'a') as f:\n",
    "    f.write('youden score = {} \\n '.format(max(df_metric['YoudenIndex'])))"
   ]
  },
  {
   "cell_type": "code",
   "execution_count": 445,
   "id": "5d67c334",
   "metadata": {},
   "outputs": [
    {
     "data": {
      "text/html": [
       "<div>\n",
       "<style scoped>\n",
       "    .dataframe tbody tr th:only-of-type {\n",
       "        vertical-align: middle;\n",
       "    }\n",
       "\n",
       "    .dataframe tbody tr th {\n",
       "        vertical-align: top;\n",
       "    }\n",
       "\n",
       "    .dataframe thead th {\n",
       "        text-align: right;\n",
       "    }\n",
       "</style>\n",
       "<table border=\"1\" class=\"dataframe\">\n",
       "  <thead>\n",
       "    <tr style=\"text-align: right;\">\n",
       "      <th></th>\n",
       "      <th>threshold</th>\n",
       "      <th>Recall</th>\n",
       "      <th>FPR</th>\n",
       "      <th>Precison</th>\n",
       "      <th>Specifity</th>\n",
       "      <th>Sensitivity</th>\n",
       "      <th>Recall/Specifity</th>\n",
       "      <th>YoudenIndex</th>\n",
       "    </tr>\n",
       "  </thead>\n",
       "  <tbody>\n",
       "  </tbody>\n",
       "</table>\n",
       "</div>"
      ],
      "text/plain": [
       "Empty DataFrame\n",
       "Columns: [threshold, Recall, FPR, Precison, Specifity, Sensitivity, Recall/Specifity, YoudenIndex]\n",
       "Index: []"
      ]
     },
     "execution_count": 445,
     "metadata": {},
     "output_type": "execute_result"
    }
   ],
   "source": [
    "df_metric[(df_metric['Recall'] < 1) & (df_metric['Recall'] > 0.95)]"
   ]
  },
  {
   "cell_type": "code",
   "execution_count": 446,
   "id": "3c943ce2",
   "metadata": {},
   "outputs": [],
   "source": [
    "#youden_threshold = -0.000012"
   ]
  },
  {
   "cell_type": "code",
   "execution_count": null,
   "id": "f7caf39e",
   "metadata": {},
   "outputs": [],
   "source": []
  }
 ],
 "metadata": {
  "kernelspec": {
   "display_name": "Python 3 (ipykernel)",
   "language": "python",
   "name": "python3"
  },
  "language_info": {
   "codemirror_mode": {
    "name": "ipython",
    "version": 3
   },
   "file_extension": ".py",
   "mimetype": "text/x-python",
   "name": "python",
   "nbconvert_exporter": "python",
   "pygments_lexer": "ipython3",
   "version": "3.9.6"
  }
 },
 "nbformat": 4,
 "nbformat_minor": 5
}
